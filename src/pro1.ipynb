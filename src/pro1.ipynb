{
  "nbformat": 4,
  "nbformat_minor": 0,
  "metadata": {
    "colab": {
      "name": "“Untitled22.ipynb”的副本",
      "provenance": [],
      "include_colab_link": true
    },
    "kernelspec": {
      "name": "python3",
      "display_name": "Python 3"
    }
  },
  "cells": [
    {
      "cell_type": "markdown",
      "metadata": {
        "id": "view-in-github",
        "colab_type": "text"
      },
      "source": [
        "<a href=\"https://colab.research.google.com/github/Bertha-ding/20MA573-yuning-ding/blob/master/src/pro1.ipynb\" target=\"_parent\"><img src=\"https://colab.research.google.com/assets/colab-badge.svg\" alt=\"Open In Colab\"/></a>"
      ]
    },
    {
      "cell_type": "code",
      "metadata": {
        "id": "eCFTYVsW8QKc",
        "colab_type": "code",
        "outputId": "8c41f307-aab3-4cf7-ccae-2d398b7dce4f",
        "colab": {
          "base_uri": "https://localhost:8080/",
          "height": 479
        }
      },
      "source": [
        "!pip install yahoo-finance\n",
        "!pip install pandas_market_calendars\n",
        "\n",
        "import pandas as pd\n",
        "import pandas_market_calendars as pmc\n",
        "import pandas_datareader.data as drd\n",
        "import numpy as np\n",
        "import seaborn as sns"
      ],
      "execution_count": 1,
      "outputs": [
        {
          "output_type": "stream",
          "text": [
            "Collecting yahoo-finance\n",
            "  Downloading https://files.pythonhosted.org/packages/7c/8c/61e2250dd88a22a3156c2b44fd021140bf984b49800584cb0372193a116a/yahoo-finance-1.4.0.tar.gz\n",
            "Requirement already satisfied: pytz in /usr/local/lib/python3.6/dist-packages (from yahoo-finance) (2018.9)\n",
            "Collecting simplejson\n",
            "\u001b[?25l  Downloading https://files.pythonhosted.org/packages/98/87/a7b98aa9256c8843f92878966dc3d8d914c14aad97e2c5ce4798d5743e07/simplejson-3.17.0.tar.gz (83kB)\n",
            "\u001b[K     |████████████████████████████████| 92kB 2.9MB/s \n",
            "\u001b[?25hBuilding wheels for collected packages: yahoo-finance, simplejson\n",
            "  Building wheel for yahoo-finance (setup.py) ... \u001b[?25l\u001b[?25hdone\n",
            "  Created wheel for yahoo-finance: filename=yahoo_finance-1.4.0-cp36-none-any.whl size=7232 sha256=08c3c5c700bdc1d8a5ebbd9a7706cc94bb3aa4d627df0b43ef7395406e9a0b16\n",
            "  Stored in directory: /root/.cache/pip/wheels/58/77/5b/66026e0fa7af2ee5926a516a70d3df95e17f952c570bc5aee6\n",
            "  Building wheel for simplejson (setup.py) ... \u001b[?25l\u001b[?25hdone\n",
            "  Created wheel for simplejson: filename=simplejson-3.17.0-cp36-cp36m-linux_x86_64.whl size=114207 sha256=0530d73502885ac1be695a3d4fd41b75ef903cc8d72851c79031bb002cc09d0e\n",
            "  Stored in directory: /root/.cache/pip/wheels/86/c0/83/dcd0339abb2640544bb8e0938aab2d069cef55e5647ce6e097\n",
            "Successfully built yahoo-finance simplejson\n",
            "Installing collected packages: simplejson, yahoo-finance\n",
            "Successfully installed simplejson-3.17.0 yahoo-finance-1.4.0\n",
            "Collecting pandas_market_calendars\n",
            "\u001b[?25l  Downloading https://files.pythonhosted.org/packages/08/38/c7d2f38db8ca480b996b8b5cabed82f3a2f9825d585dd4c9ef123d82c936/pandas_market_calendars-1.2-py3-none-any.whl (50kB)\n",
            "\u001b[K     |████████████████████████████████| 51kB 1.7MB/s \n",
            "\u001b[?25hRequirement already satisfied: pytz in /usr/local/lib/python3.6/dist-packages (from pandas_market_calendars) (2018.9)\n",
            "Requirement already satisfied: pandas>=0.18 in /usr/local/lib/python3.6/dist-packages (from pandas_market_calendars) (0.25.3)\n",
            "Requirement already satisfied: python-dateutil>=2.6.1 in /usr/local/lib/python3.6/dist-packages (from pandas>=0.18->pandas_market_calendars) (2.8.1)\n",
            "Requirement already satisfied: numpy>=1.13.3 in /usr/local/lib/python3.6/dist-packages (from pandas>=0.18->pandas_market_calendars) (1.18.2)\n",
            "Requirement already satisfied: six>=1.5 in /usr/local/lib/python3.6/dist-packages (from python-dateutil>=2.6.1->pandas>=0.18->pandas_market_calendars) (1.12.0)\n",
            "Installing collected packages: pandas-market-calendars\n",
            "Successfully installed pandas-market-calendars-1.2\n"
          ],
          "name": "stdout"
        }
      ]
    },
    {
      "cell_type": "code",
      "metadata": {
        "id": "3nRegIUQ8hEG",
        "colab_type": "code",
        "colab": {}
      },
      "source": [
        "AAPL= drd.get_data_yahoo('AAPL','01/01/2012','12/31/2019',interval='d')\n",
        "TSLA= drd.get_data_yahoo('TSLA','01/01/2012','12/31/2019',interval='d')\n",
        "GILD= drd.get_data_yahoo('GILD','01/01/2012','12/31/2019',interval='d')\n",
        "MELI= drd.get_data_yahoo('MELI','01/01/2012','12/31/2019',interval='d')\n",
        "MSFT= drd.get_data_yahoo('MSFT','01/01/2012','12/31/2019',interval='d')\n",
        "DIS= drd.get_data_yahoo('DIS','01/01/2012','12/31/2019',interval='d')\n",
        "NVDA= drd.get_data_yahoo('NVDA','01/01/2012','12/31/2019',interval='d')\n",
        "TCO= drd.get_data_yahoo('TCO','01/01/2012','12/31/2019',interval='d')\n",
        "MMM= drd.get_data_yahoo('MMM','01/01/2012','12/31/2019',interval='d')\n",
        "INCY= drd.get_data_yahoo('INCY','01/01/2012','12/31/2019',interval='d')\n",
        "IBM= drd.get_data_yahoo('IBM','01/01/2012','12/31/2019',interval='d')\n",
        "EPC= drd.get_data_yahoo('EPC','01/01/2012','12/31/2019',interval='d')\n",
        "SPY= drd.get_data_yahoo('SPY','01/01/2012','12/31/2019',interval='d')\n",
        "VEA= drd.get_data_yahoo('VEA','01/01/2012','12/31/2019',interval='d')\n",
        "VTI= drd.get_data_yahoo('VTI','01/01/2012','12/31/2019',interval='d')"
      ],
      "execution_count": 0,
      "outputs": []
    },
    {
      "cell_type": "code",
      "metadata": {
        "id": "lNtBt3EP_BiF",
        "colab_type": "code",
        "colab": {}
      },
      "source": [
        "stock_list=[AAPL,TSLA,GILD,MELI,MSFT,DIS,NVDA,TCO,MMM,INCY,IBM,EPC,SPY,VEA,VTI]\n",
        "log_return=[]\n",
        "for i in range(15):\n",
        "  stock_log=np.log(stock_list[i]['Adj Close'])#log close price of each stock\n",
        "  len_num=len(stock_log)\n",
        "  for j in range(len_num-1):\n",
        "    stock_log[j]=stock_log[j+1]-stock_log[j]\n",
        "  log_return.append(stock_log)\n",
        "log_return"
      ],
      "execution_count": 0,
      "outputs": []
    },
    {
      "cell_type": "code",
      "metadata": {
        "id": "s10-YVIoMYNS",
        "colab_type": "code",
        "outputId": "b8580a6c-94e8-4bb6-d85c-e0f078718ac5",
        "colab": {
          "base_uri": "https://localhost:8080/",
          "height": 34
        }
      },
      "source": [
        "type(log_return[0])"
      ],
      "execution_count": 4,
      "outputs": [
        {
          "output_type": "execute_result",
          "data": {
            "text/plain": [
              "pandas.core.series.Series"
            ]
          },
          "metadata": {
            "tags": []
          },
          "execution_count": 4
        }
      ]
    },
    {
      "cell_type": "markdown",
      "metadata": {
        "id": "s3bteqgbuwKD",
        "colab_type": "text"
      },
      "source": [
        "Now we work on 1.2"
      ]
    },
    {
      "cell_type": "code",
      "metadata": {
        "id": "j-8iQUSzuRGh",
        "colab_type": "code",
        "outputId": "02c24a6b-303f-41fe-df93-bb8afaf02b4b",
        "colab": {
          "base_uri": "https://localhost:8080/",
          "height": 419
        }
      },
      "source": [
        "import pandas_market_calendars as mcal\n",
        "nyse = mcal.get_calendar('NYSE')\n",
        "tradingdays = nyse.schedule(start_date='2012-01-01', end_date='2019-12-31')\n",
        "tradingdays"
      ],
      "execution_count": 5,
      "outputs": [
        {
          "output_type": "execute_result",
          "data": {
            "text/html": [
              "<div>\n",
              "<style scoped>\n",
              "    .dataframe tbody tr th:only-of-type {\n",
              "        vertical-align: middle;\n",
              "    }\n",
              "\n",
              "    .dataframe tbody tr th {\n",
              "        vertical-align: top;\n",
              "    }\n",
              "\n",
              "    .dataframe thead th {\n",
              "        text-align: right;\n",
              "    }\n",
              "</style>\n",
              "<table border=\"1\" class=\"dataframe\">\n",
              "  <thead>\n",
              "    <tr style=\"text-align: right;\">\n",
              "      <th></th>\n",
              "      <th>market_open</th>\n",
              "      <th>market_close</th>\n",
              "    </tr>\n",
              "  </thead>\n",
              "  <tbody>\n",
              "    <tr>\n",
              "      <th>2012-01-03</th>\n",
              "      <td>2012-01-03 14:30:00+00:00</td>\n",
              "      <td>2012-01-03 21:00:00+00:00</td>\n",
              "    </tr>\n",
              "    <tr>\n",
              "      <th>2012-01-04</th>\n",
              "      <td>2012-01-04 14:30:00+00:00</td>\n",
              "      <td>2012-01-04 21:00:00+00:00</td>\n",
              "    </tr>\n",
              "    <tr>\n",
              "      <th>2012-01-05</th>\n",
              "      <td>2012-01-05 14:30:00+00:00</td>\n",
              "      <td>2012-01-05 21:00:00+00:00</td>\n",
              "    </tr>\n",
              "    <tr>\n",
              "      <th>2012-01-06</th>\n",
              "      <td>2012-01-06 14:30:00+00:00</td>\n",
              "      <td>2012-01-06 21:00:00+00:00</td>\n",
              "    </tr>\n",
              "    <tr>\n",
              "      <th>2012-01-09</th>\n",
              "      <td>2012-01-09 14:30:00+00:00</td>\n",
              "      <td>2012-01-09 21:00:00+00:00</td>\n",
              "    </tr>\n",
              "    <tr>\n",
              "      <th>...</th>\n",
              "      <td>...</td>\n",
              "      <td>...</td>\n",
              "    </tr>\n",
              "    <tr>\n",
              "      <th>2019-12-24</th>\n",
              "      <td>2019-12-24 14:30:00+00:00</td>\n",
              "      <td>2019-12-24 18:00:00+00:00</td>\n",
              "    </tr>\n",
              "    <tr>\n",
              "      <th>2019-12-26</th>\n",
              "      <td>2019-12-26 14:30:00+00:00</td>\n",
              "      <td>2019-12-26 21:00:00+00:00</td>\n",
              "    </tr>\n",
              "    <tr>\n",
              "      <th>2019-12-27</th>\n",
              "      <td>2019-12-27 14:30:00+00:00</td>\n",
              "      <td>2019-12-27 21:00:00+00:00</td>\n",
              "    </tr>\n",
              "    <tr>\n",
              "      <th>2019-12-30</th>\n",
              "      <td>2019-12-30 14:30:00+00:00</td>\n",
              "      <td>2019-12-30 21:00:00+00:00</td>\n",
              "    </tr>\n",
              "    <tr>\n",
              "      <th>2019-12-31</th>\n",
              "      <td>2019-12-31 14:30:00+00:00</td>\n",
              "      <td>2019-12-31 21:00:00+00:00</td>\n",
              "    </tr>\n",
              "  </tbody>\n",
              "</table>\n",
              "<p>2012 rows × 2 columns</p>\n",
              "</div>"
            ],
            "text/plain": [
              "                         market_open              market_close\n",
              "2012-01-03 2012-01-03 14:30:00+00:00 2012-01-03 21:00:00+00:00\n",
              "2012-01-04 2012-01-04 14:30:00+00:00 2012-01-04 21:00:00+00:00\n",
              "2012-01-05 2012-01-05 14:30:00+00:00 2012-01-05 21:00:00+00:00\n",
              "2012-01-06 2012-01-06 14:30:00+00:00 2012-01-06 21:00:00+00:00\n",
              "2012-01-09 2012-01-09 14:30:00+00:00 2012-01-09 21:00:00+00:00\n",
              "...                              ...                       ...\n",
              "2019-12-24 2019-12-24 14:30:00+00:00 2019-12-24 18:00:00+00:00\n",
              "2019-12-26 2019-12-26 14:30:00+00:00 2019-12-26 21:00:00+00:00\n",
              "2019-12-27 2019-12-27 14:30:00+00:00 2019-12-27 21:00:00+00:00\n",
              "2019-12-30 2019-12-30 14:30:00+00:00 2019-12-30 21:00:00+00:00\n",
              "2019-12-31 2019-12-31 14:30:00+00:00 2019-12-31 21:00:00+00:00\n",
              "\n",
              "[2012 rows x 2 columns]"
            ]
          },
          "metadata": {
            "tags": []
          },
          "execution_count": 5
        }
      ]
    },
    {
      "cell_type": "code",
      "metadata": {
        "id": "urX4TBRL3HCd",
        "colab_type": "code",
        "outputId": "03fd41b8-5b4f-4cbd-b4fa-b558e37affb5",
        "colab": {
          "base_uri": "https://localhost:8080/",
          "height": 34
        }
      },
      "source": [
        "from datetime import date\n",
        "total_num=len(tradingdays)#tradingdays的天数\n",
        "date_list=[]\n",
        "for i in range(total_num-1):\n",
        "  if tradingdays.index[i].day > tradingdays.index[i+1].day:#为什么是大于 筛选月末\n",
        "    date_list.append(tradingdays.index[i])#将每年月末放入date_list到2019-11-30\n",
        "date_list.append(tradingdays.index[2011])#将2019-12-31放入date_list\n",
        "a=date_list[0]#2012-1-31\n",
        "\n",
        "AAPL\n",
        "stock_list[0].loc[a]['Adj Close']#aapl 2012-1-31的股价"
      ],
      "execution_count": 6,
      "outputs": [
        {
          "output_type": "execute_result",
          "data": {
            "text/plain": [
              "56.60617446899414"
            ]
          },
          "metadata": {
            "tags": []
          },
          "execution_count": 6
        }
      ]
    },
    {
      "cell_type": "code",
      "metadata": {
        "id": "_COmXXBcn3yK",
        "colab_type": "code",
        "colab": {}
      },
      "source": [
        "date_list#datelist 月末的list"
      ],
      "execution_count": 0,
      "outputs": []
    },
    {
      "cell_type": "code",
      "metadata": {
        "id": "zkiWLktpu2IY",
        "colab_type": "code",
        "colab": {
          "base_uri": "https://localhost:8080/",
          "height": 514
        },
        "outputId": "16b950c7-f256-4d31-fe55-1ae812fa59de"
      },
      "source": [
        "index_list=['AAPL','TSLA','GILD','MELI','MSFT','DIS','NVDA','TCO','MMM','INCY','IBM','EPC','SPY','VEA','VTI']\n",
        "\n",
        "def new_portfolio():#建立一个函数形成新的股票的share和price的dataframe\n",
        "    res = pd.DataFrame(columns=['Share', 'Adj Close'],index=pd.Series(index_list))\n",
        "    return res\n",
        "\n",
        "my_port = new_portfolio()#my_port就是portfolio\n",
        "my_port"
      ],
      "execution_count": 29,
      "outputs": [
        {
          "output_type": "execute_result",
          "data": {
            "text/html": [
              "<div>\n",
              "<style scoped>\n",
              "    .dataframe tbody tr th:only-of-type {\n",
              "        vertical-align: middle;\n",
              "    }\n",
              "\n",
              "    .dataframe tbody tr th {\n",
              "        vertical-align: top;\n",
              "    }\n",
              "\n",
              "    .dataframe thead th {\n",
              "        text-align: right;\n",
              "    }\n",
              "</style>\n",
              "<table border=\"1\" class=\"dataframe\">\n",
              "  <thead>\n",
              "    <tr style=\"text-align: right;\">\n",
              "      <th></th>\n",
              "      <th>Share</th>\n",
              "      <th>Adj Close</th>\n",
              "    </tr>\n",
              "  </thead>\n",
              "  <tbody>\n",
              "    <tr>\n",
              "      <th>AAPL</th>\n",
              "      <td>NaN</td>\n",
              "      <td>NaN</td>\n",
              "    </tr>\n",
              "    <tr>\n",
              "      <th>TSLA</th>\n",
              "      <td>NaN</td>\n",
              "      <td>NaN</td>\n",
              "    </tr>\n",
              "    <tr>\n",
              "      <th>GILD</th>\n",
              "      <td>NaN</td>\n",
              "      <td>NaN</td>\n",
              "    </tr>\n",
              "    <tr>\n",
              "      <th>MELI</th>\n",
              "      <td>NaN</td>\n",
              "      <td>NaN</td>\n",
              "    </tr>\n",
              "    <tr>\n",
              "      <th>MSFT</th>\n",
              "      <td>NaN</td>\n",
              "      <td>NaN</td>\n",
              "    </tr>\n",
              "    <tr>\n",
              "      <th>DIS</th>\n",
              "      <td>NaN</td>\n",
              "      <td>NaN</td>\n",
              "    </tr>\n",
              "    <tr>\n",
              "      <th>NVDA</th>\n",
              "      <td>NaN</td>\n",
              "      <td>NaN</td>\n",
              "    </tr>\n",
              "    <tr>\n",
              "      <th>TCO</th>\n",
              "      <td>NaN</td>\n",
              "      <td>NaN</td>\n",
              "    </tr>\n",
              "    <tr>\n",
              "      <th>MMM</th>\n",
              "      <td>NaN</td>\n",
              "      <td>NaN</td>\n",
              "    </tr>\n",
              "    <tr>\n",
              "      <th>INCY</th>\n",
              "      <td>NaN</td>\n",
              "      <td>NaN</td>\n",
              "    </tr>\n",
              "    <tr>\n",
              "      <th>IBM</th>\n",
              "      <td>NaN</td>\n",
              "      <td>NaN</td>\n",
              "    </tr>\n",
              "    <tr>\n",
              "      <th>EPC</th>\n",
              "      <td>NaN</td>\n",
              "      <td>NaN</td>\n",
              "    </tr>\n",
              "    <tr>\n",
              "      <th>SPY</th>\n",
              "      <td>NaN</td>\n",
              "      <td>NaN</td>\n",
              "    </tr>\n",
              "    <tr>\n",
              "      <th>VEA</th>\n",
              "      <td>NaN</td>\n",
              "      <td>NaN</td>\n",
              "    </tr>\n",
              "    <tr>\n",
              "      <th>VTI</th>\n",
              "      <td>NaN</td>\n",
              "      <td>NaN</td>\n",
              "    </tr>\n",
              "  </tbody>\n",
              "</table>\n",
              "</div>"
            ],
            "text/plain": [
              "     Share Adj Close\n",
              "AAPL   NaN       NaN\n",
              "TSLA   NaN       NaN\n",
              "GILD   NaN       NaN\n",
              "MELI   NaN       NaN\n",
              "MSFT   NaN       NaN\n",
              "DIS    NaN       NaN\n",
              "NVDA   NaN       NaN\n",
              "TCO    NaN       NaN\n",
              "MMM    NaN       NaN\n",
              "INCY   NaN       NaN\n",
              "IBM    NaN       NaN\n",
              "EPC    NaN       NaN\n",
              "SPY    NaN       NaN\n",
              "VEA    NaN       NaN\n",
              "VTI    NaN       NaN"
            ]
          },
          "metadata": {
            "tags": []
          },
          "execution_count": 29
        }
      ]
    },
    {
      "cell_type": "code",
      "metadata": {
        "id": "BzjFcaqhu2Np",
        "colab_type": "code",
        "colab": {
          "base_uri": "https://localhost:8080/",
          "height": 514
        },
        "outputId": "1f6eddca-3876-4571-f803-ec44707f598d"
      },
      "source": [
        "update_list=[]#更新\n",
        "\n",
        "for i in range(len(index_list)):\n",
        "    a=index_list[i]\n",
        "    my_port.loc[a]['Adj Close']=stock_list[i].loc['2012-01-03']['Adj Close']#port里每只股票的收盘价=每只股票2012-1-3的收盘价\n",
        "update_list.append(my_port)#因为一月份持股为1.3的持股数\n",
        "\n",
        "for j in range(len(date_list)):\n",
        "  b=date_list[j]#月末的list\n",
        "  my_port=new_portfolio()\n",
        "  for i in range(len(index_list)):\n",
        "    a=index_list[i]\n",
        "    my_port.loc[a]['Adj Close']=stock_list[i].loc[b]['Adj Close']#port里每只股票的收盘价=每只股票月末的收盘价\n",
        "  update_list.append(my_port)\n"
      ],
      "execution_count": 31,
      "outputs": [
        {
          "output_type": "execute_result",
          "data": {
            "text/html": [
              "<div>\n",
              "<style scoped>\n",
              "    .dataframe tbody tr th:only-of-type {\n",
              "        vertical-align: middle;\n",
              "    }\n",
              "\n",
              "    .dataframe tbody tr th {\n",
              "        vertical-align: top;\n",
              "    }\n",
              "\n",
              "    .dataframe thead th {\n",
              "        text-align: right;\n",
              "    }\n",
              "</style>\n",
              "<table border=\"1\" class=\"dataframe\">\n",
              "  <thead>\n",
              "    <tr style=\"text-align: right;\">\n",
              "      <th></th>\n",
              "      <th>Share</th>\n",
              "      <th>Adj Close</th>\n",
              "    </tr>\n",
              "  </thead>\n",
              "  <tbody>\n",
              "    <tr>\n",
              "      <th>AAPL</th>\n",
              "      <td>NaN</td>\n",
              "      <td>50.9949</td>\n",
              "    </tr>\n",
              "    <tr>\n",
              "      <th>TSLA</th>\n",
              "      <td>NaN</td>\n",
              "      <td>28.08</td>\n",
              "    </tr>\n",
              "    <tr>\n",
              "      <th>GILD</th>\n",
              "      <td>NaN</td>\n",
              "      <td>18.165</td>\n",
              "    </tr>\n",
              "    <tr>\n",
              "      <th>MELI</th>\n",
              "      <td>NaN</td>\n",
              "      <td>79.6148</td>\n",
              "    </tr>\n",
              "    <tr>\n",
              "      <th>MSFT</th>\n",
              "      <td>NaN</td>\n",
              "      <td>22.0208</td>\n",
              "    </tr>\n",
              "    <tr>\n",
              "      <th>DIS</th>\n",
              "      <td>NaN</td>\n",
              "      <td>34.3006</td>\n",
              "    </tr>\n",
              "    <tr>\n",
              "      <th>NVDA</th>\n",
              "      <td>NaN</td>\n",
              "      <td>12.9221</td>\n",
              "    </tr>\n",
              "    <tr>\n",
              "      <th>TCO</th>\n",
              "      <td>NaN</td>\n",
              "      <td>45.5826</td>\n",
              "    </tr>\n",
              "    <tr>\n",
              "      <th>MMM</th>\n",
              "      <td>NaN</td>\n",
              "      <td>67.2184</td>\n",
              "    </tr>\n",
              "    <tr>\n",
              "      <th>INCY</th>\n",
              "      <td>NaN</td>\n",
              "      <td>14.99</td>\n",
              "    </tr>\n",
              "    <tr>\n",
              "      <th>IBM</th>\n",
              "      <td>NaN</td>\n",
              "      <td>139.934</td>\n",
              "    </tr>\n",
              "    <tr>\n",
              "      <th>EPC</th>\n",
              "      <td>NaN</td>\n",
              "      <td>55.5269</td>\n",
              "    </tr>\n",
              "    <tr>\n",
              "      <th>SPY</th>\n",
              "      <td>NaN</td>\n",
              "      <td>108.037</td>\n",
              "    </tr>\n",
              "    <tr>\n",
              "      <th>VEA</th>\n",
              "      <td>NaN</td>\n",
              "      <td>24.5427</td>\n",
              "    </tr>\n",
              "    <tr>\n",
              "      <th>VTI</th>\n",
              "      <td>NaN</td>\n",
              "      <td>55.5514</td>\n",
              "    </tr>\n",
              "  </tbody>\n",
              "</table>\n",
              "</div>"
            ],
            "text/plain": [
              "     Share Adj Close\n",
              "AAPL   NaN   50.9949\n",
              "TSLA   NaN     28.08\n",
              "GILD   NaN    18.165\n",
              "MELI   NaN   79.6148\n",
              "MSFT   NaN   22.0208\n",
              "DIS    NaN   34.3006\n",
              "NVDA   NaN   12.9221\n",
              "TCO    NaN   45.5826\n",
              "MMM    NaN   67.2184\n",
              "INCY   NaN     14.99\n",
              "IBM    NaN   139.934\n",
              "EPC    NaN   55.5269\n",
              "SPY    NaN   108.037\n",
              "VEA    NaN   24.5427\n",
              "VTI    NaN   55.5514"
            ]
          },
          "metadata": {
            "tags": []
          },
          "execution_count": 31
        }
      ]
    },
    {
      "cell_type": "code",
      "metadata": {
        "id": "bWuVHzCLuxqa",
        "colab_type": "code",
        "colab": {
          "base_uri": "https://localhost:8080/",
          "height": 34
        },
        "outputId": "0bd7ac84-744c-46d6-d3eb-42c6a48e7694"
      },
      "source": [
        "len(update_list)"
      ],
      "execution_count": 33,
      "outputs": [
        {
          "output_type": "execute_result",
          "data": {
            "text/plain": [
              "97"
            ]
          },
          "metadata": {
            "tags": []
          },
          "execution_count": 33
        }
      ]
    },
    {
      "cell_type": "code",
      "metadata": {
        "id": "vVVNcoOTEHXp",
        "colab_type": "code",
        "colab": {}
      },
      "source": [
        "for i in range(len(index_list)):\n",
        "    a=index_list[i]\n",
        "    update_list[0].loc[a]['Share']=(400000/15)/update_list[0].loc[a]['Adj Close']\n",
        "\n",
        "def total_value(portfolio1,portfolio2):\n",
        "  res=0\n",
        "  for i in range(len(index_list)):\n",
        "    a=index_list[i]\n",
        "    res+=portfolio1.loc[a]['Share']*portfolio2.loc[a]['Adj Close']\n",
        "  return res\n",
        "\n",
        "for i in range(len(update_list)-1):#0-95\n",
        "  to_value=total_value(update_list[i],update_list[i+1])\n",
        "  for j in range(len(index_list)):\n",
        "    a=index_list[j]\n",
        "    update_list[i+1].loc[a]['Share']=(to_value/15)/update_list[i+1].loc[a]['Adj Close']#算新share\n",
        "\n"
      ],
      "execution_count": 0,
      "outputs": []
    },
    {
      "cell_type": "markdown",
      "metadata": {
        "id": "FVNj1_wV3i3c",
        "colab_type": "text"
      },
      "source": [
        "Now we work on 1.3"
      ]
    },
    {
      "cell_type": "code",
      "metadata": {
        "id": "DlEF8Ayh3l8Y",
        "colab_type": "code",
        "outputId": "07e85068-c700-45a3-e04e-c42005048d74",
        "colab": {
          "base_uri": "https://localhost:8080/",
          "height": 153
        }
      },
      "source": [
        "time_window=tradingdays.index\n",
        "time_window"
      ],
      "execution_count": 10,
      "outputs": [
        {
          "output_type": "execute_result",
          "data": {
            "text/plain": [
              "DatetimeIndex(['2012-01-03', '2012-01-04', '2012-01-05', '2012-01-06',\n",
              "               '2012-01-09', '2012-01-10', '2012-01-11', '2012-01-12',\n",
              "               '2012-01-13', '2012-01-17',\n",
              "               ...\n",
              "               '2019-12-17', '2019-12-18', '2019-12-19', '2019-12-20',\n",
              "               '2019-12-23', '2019-12-24', '2019-12-26', '2019-12-27',\n",
              "               '2019-12-30', '2019-12-31'],\n",
              "              dtype='datetime64[ns]', length=2012, freq='C')"
            ]
          },
          "metadata": {
            "tags": []
          },
          "execution_count": 10
        }
      ]
    },
    {
      "cell_type": "code",
      "metadata": {
        "id": "khYdpQgEA5a2",
        "colab_type": "code",
        "colab": {}
      },
      "source": [
        "date_list[:6]\n",
        "def total_value(portfolio1,portfolio2):\n",
        "  res=0\n",
        "  for i in range(len(index_list)):\n",
        "    a=index_list[i]\n",
        "    res+=portfolio1.loc[a]['Share']*portfolio2.loc[a]['Adj Close']\n",
        "  return res"
      ],
      "execution_count": 0,
      "outputs": []
    },
    {
      "cell_type": "code",
      "metadata": {
        "id": "dxVcNU0_3mBe",
        "colab_type": "code",
        "colab": {}
      },
      "source": [
        "allstock_list=[]\n",
        "for j in range(len(time_window)):\n",
        "  b=time_window[j]\n",
        "  my_port=new_portfolio()\n",
        "  for i in range(len(index_list)):\n",
        "    a=index_list[i]\n",
        "    my_port.loc[a]['Adj Close']=stock_list[i].loc[b]['Adj Close']\n",
        "  allstock_list.append(my_port)\n"
      ],
      "execution_count": 0,
      "outputs": []
    },
    {
      "cell_type": "code",
      "metadata": {
        "id": "8LUomtS8x2Zu",
        "colab_type": "code",
        "colab": {
          "base_uri": "https://localhost:8080/",
          "height": 514
        },
        "outputId": "bd7a25d5-9f34-4ab1-d7c7-52178dfcab44"
      },
      "source": [
        "date_list[0]\n",
        "update_list[0]#2012-1-3\n",
        "update_list[1]#2012-1-31"
      ],
      "execution_count": 39,
      "outputs": [
        {
          "output_type": "execute_result",
          "data": {
            "text/html": [
              "<div>\n",
              "<style scoped>\n",
              "    .dataframe tbody tr th:only-of-type {\n",
              "        vertical-align: middle;\n",
              "    }\n",
              "\n",
              "    .dataframe tbody tr th {\n",
              "        vertical-align: top;\n",
              "    }\n",
              "\n",
              "    .dataframe thead th {\n",
              "        text-align: right;\n",
              "    }\n",
              "</style>\n",
              "<table border=\"1\" class=\"dataframe\">\n",
              "  <thead>\n",
              "    <tr style=\"text-align: right;\">\n",
              "      <th></th>\n",
              "      <th>Share</th>\n",
              "      <th>Adj Close</th>\n",
              "    </tr>\n",
              "  </thead>\n",
              "  <tbody>\n",
              "    <tr>\n",
              "      <th>AAPL</th>\n",
              "      <td>NaN</td>\n",
              "      <td>56.6062</td>\n",
              "    </tr>\n",
              "    <tr>\n",
              "      <th>TSLA</th>\n",
              "      <td>NaN</td>\n",
              "      <td>29.07</td>\n",
              "    </tr>\n",
              "    <tr>\n",
              "      <th>GILD</th>\n",
              "      <td>NaN</td>\n",
              "      <td>21.2027</td>\n",
              "    </tr>\n",
              "    <tr>\n",
              "      <th>MELI</th>\n",
              "      <td>NaN</td>\n",
              "      <td>85.0652</td>\n",
              "    </tr>\n",
              "    <tr>\n",
              "      <th>MSFT</th>\n",
              "      <td>NaN</td>\n",
              "      <td>24.2911</td>\n",
              "    </tr>\n",
              "    <tr>\n",
              "      <th>DIS</th>\n",
              "      <td>NaN</td>\n",
              "      <td>34.8289</td>\n",
              "    </tr>\n",
              "    <tr>\n",
              "      <th>NVDA</th>\n",
              "      <td>NaN</td>\n",
              "      <td>13.594</td>\n",
              "    </tr>\n",
              "    <tr>\n",
              "      <th>TCO</th>\n",
              "      <td>NaN</td>\n",
              "      <td>48.9412</td>\n",
              "    </tr>\n",
              "    <tr>\n",
              "      <th>MMM</th>\n",
              "      <td>NaN</td>\n",
              "      <td>69.8109</td>\n",
              "    </tr>\n",
              "    <tr>\n",
              "      <th>INCY</th>\n",
              "      <td>NaN</td>\n",
              "      <td>17.7</td>\n",
              "    </tr>\n",
              "    <tr>\n",
              "      <th>IBM</th>\n",
              "      <td>NaN</td>\n",
              "      <td>144.666</td>\n",
              "    </tr>\n",
              "    <tr>\n",
              "      <th>EPC</th>\n",
              "      <td>NaN</td>\n",
              "      <td>54.0004</td>\n",
              "    </tr>\n",
              "    <tr>\n",
              "      <th>SPY</th>\n",
              "      <td>NaN</td>\n",
              "      <td>111.274</td>\n",
              "    </tr>\n",
              "    <tr>\n",
              "      <th>VEA</th>\n",
              "      <td>NaN</td>\n",
              "      <td>25.245</td>\n",
              "    </tr>\n",
              "    <tr>\n",
              "      <th>VTI</th>\n",
              "      <td>NaN</td>\n",
              "      <td>57.5533</td>\n",
              "    </tr>\n",
              "  </tbody>\n",
              "</table>\n",
              "</div>"
            ],
            "text/plain": [
              "     Share Adj Close\n",
              "AAPL   NaN   56.6062\n",
              "TSLA   NaN     29.07\n",
              "GILD   NaN   21.2027\n",
              "MELI   NaN   85.0652\n",
              "MSFT   NaN   24.2911\n",
              "DIS    NaN   34.8289\n",
              "NVDA   NaN    13.594\n",
              "TCO    NaN   48.9412\n",
              "MMM    NaN   69.8109\n",
              "INCY   NaN      17.7\n",
              "IBM    NaN   144.666\n",
              "EPC    NaN   54.0004\n",
              "SPY    NaN   111.274\n",
              "VEA    NaN    25.245\n",
              "VTI    NaN   57.5533"
            ]
          },
          "metadata": {
            "tags": []
          },
          "execution_count": 39
        }
      ]
    },
    {
      "cell_type": "code",
      "metadata": {
        "colab_type": "code",
        "id": "Em95nh2qx0nR",
        "colab": {}
      },
      "source": [
        "j=0\n",
        "value_series=[]\n",
        "for i in range(len(time_window)):\n",
        "  if time_window[i] < date_list[j]:\n",
        "    a=total_value(update_list[j],allstock_list[i])\n",
        "    value_series.append(a)\n",
        "  else:\n",
        "    j+=1\n",
        "    a=total_value(update_list[j],allstock_list[i])\n",
        "    value_series.append(a)\n",
        "\n",
        "#value_series"
      ],
      "execution_count": 0,
      "outputs": []
    },
    {
      "cell_type": "code",
      "metadata": {
        "id": "QZ2XCG6wH_cV",
        "colab_type": "code",
        "colab": {}
      },
      "source": [
        "logvalue_series=np.log(np.array(value_series))\n",
        "logret_series=[]\n",
        "for i in range(len(logvalue_series)-1):\n",
        "  logret_series.append(logvalue_series[i+1]-logvalue_series[i])#logreturn series\n",
        "  \n",
        "#logret_series"
      ],
      "execution_count": 0,
      "outputs": []
    },
    {
      "cell_type": "code",
      "metadata": {
        "id": "gkreEPdUH_tR",
        "colab_type": "code",
        "outputId": "b7e6a9d0-79a3-480e-9c53-e3600488874a",
        "colab": {
          "base_uri": "https://localhost:8080/",
          "height": 414
        }
      },
      "source": [
        "import matplotlib.pyplot as plt\n",
        "\n",
        "logret_series.insert(0,0) \n",
        "\n",
        "fig,left_axis=plt.subplots()\n",
        "right_axis = left_axis.twinx()\n",
        "p1, = left_axis.plot(time_window, value_series,'b')\n",
        "p2, = right_axis.plot(time_window,logret_series,'r')\n",
        "\n",
        "left_axis.set_xlabel('Time')\n",
        "left_axis.set_ylabel('Portfolio Value')\n",
        "right_axis.set_ylabel('Log Return')\n",
        "\n",
        "\n",
        "left_axis.yaxis.label.set_color(p1.get_color())\n",
        "right_axis.yaxis.label.set_color(p2.get_color())\n",
        "\n",
        "tkw = dict(size=5, width=1.5)\n",
        "left_axis.tick_params(axis='y', colors=p1.get_color(), **tkw)\n",
        "right_axis.tick_params(axis='y', colors=p2.get_color(), **tkw)\n",
        "left_axis.tick_params(axis='x', **tkw)\n",
        "\n",
        "plt.show()"
      ],
      "execution_count": 15,
      "outputs": [
        {
          "output_type": "stream",
          "text": [
            "/usr/local/lib/python3.6/dist-packages/pandas/plotting/_matplotlib/converter.py:103: FutureWarning: Using an implicitly registered datetime converter for a matplotlib plotting method. The converter was registered by pandas on import. Future versions of pandas will require you to explicitly register matplotlib converters.\n",
            "\n",
            "To register the converters:\n",
            "\t>>> from pandas.plotting import register_matplotlib_converters\n",
            "\t>>> register_matplotlib_converters()\n",
            "  warnings.warn(msg, FutureWarning)\n"
          ],
          "name": "stderr"
        },
        {
          "output_type": "display_data",
          "data": {
            "image/png": "[encoded data removed]",
            "text/plain": [
              "<Figure size 432x288 with 2 Axes>"
            ]
          },
          "metadata": {
            "tags": []
          }
        }
      ]
    },
    {
      "cell_type": "code",
      "metadata": {
        "id": "A4NMIHUF3mD6",
        "colab_type": "code",
        "outputId": "a6a767c0-37d9-4bdc-8611-2b2289e13850",
        "colab": {
          "base_uri": "https://localhost:8080/",
          "height": 54
        }
      },
      "source": [
        "'''\n",
        "my_port=new_portfolio()\n",
        "for i in range(len(index_list)):\n",
        "    a=index_list[i]\n",
        "    my_port.loc[a]['Adj Close']=stock_list[i].loc['2014-05-28']['Adj Close']\n",
        "my_port\n",
        "'''"
      ],
      "execution_count": 16,
      "outputs": [
        {
          "output_type": "execute_result",
          "data": {
            "text/plain": [
              "\"\\nmy_port=new_portfolio()\\nfor i in range(len(index_list)):\\n    a=index_list[i]\\n    my_port.loc[a]['Adj Close']=stock_list[i].loc['2014-05-28']['Adj Close']\\nmy_port\\n\""
            ]
          },
          "metadata": {
            "tags": []
          },
          "execution_count": 16
        }
      ]
    },
    {
      "cell_type": "markdown",
      "metadata": {
        "id": "2rq8MtMDxOxl",
        "colab_type": "text"
      },
      "source": [
        "Now we work on 2.1"
      ]
    },
    {
      "cell_type": "code",
      "metadata": {
        "id": "P5OwVgF5j8FS",
        "colab_type": "code",
        "outputId": "64d31a13-4de2-4c3a-d6d4-6971c79de2a6",
        "colab": {
          "base_uri": "https://localhost:8080/",
          "height": 34
        }
      },
      "source": [
        "four_year1=[]\n",
        "for i in time_window:\n",
        "  if i.year < 2016:\n",
        "    four_year1.append(i)\n",
        "#four_year1\n",
        "len(four_year1)"
      ],
      "execution_count": 17,
      "outputs": [
        {
          "output_type": "execute_result",
          "data": {
            "text/plain": [
              "1006"
            ]
          },
          "metadata": {
            "tags": []
          },
          "execution_count": 17
        }
      ]
    },
    {
      "cell_type": "code",
      "metadata": {
        "id": "iWNj6CzIHaDR",
        "colab_type": "code",
        "outputId": "e3abe19b-6f69-4199-f45f-1c2e9b38bad7",
        "colab": {
          "base_uri": "https://localhost:8080/",
          "height": 272
        }
      },
      "source": [
        "u=[]\n",
        "for i in range(15):\n",
        "  a=log_return[i][:1005]\n",
        "  u.append(a.mean())\n",
        "u"
      ],
      "execution_count": 18,
      "outputs": [
        {
          "output_type": "execute_result",
          "data": {
            "text/plain": [
              "[0.000651307449392186,\n",
              " 0.0021349482485699574,\n",
              " 0.0015797717851378486,\n",
              " 0.00035364876830305727,\n",
              " 0.0008361326272778298,\n",
              " 0.00105605906408247,\n",
              " 0.00091106047752495,\n",
              " 0.00031750836162060606,\n",
              " 0.000685530844762954,\n",
              " 0.001969060609241371,\n",
              " -0.00020214014350277264,\n",
              " 0.00034285946574331256,\n",
              " 0.0005483261772205701,\n",
              " 0.00027445871906183345,\n",
              " 0.0005458413382885153]"
            ]
          },
          "metadata": {
            "tags": []
          },
          "execution_count": 18
        }
      ]
    },
    {
      "cell_type": "code",
      "metadata": {
        "id": "bBk5q47zPHky",
        "colab_type": "code",
        "outputId": "3e27c394-0209-4390-8062-ab072fac9351",
        "colab": {
          "base_uri": "https://localhost:8080/",
          "height": 534
        }
      },
      "source": [
        "df_temp={}\n",
        "\n",
        "for i in range(15):\n",
        "  df_temp[index_list[i]]=log_return[i][:1005]\n",
        "df = pd.DataFrame(df_temp)\n",
        "cov_mat=df.cov()  \n",
        "cov_mat"
      ],
      "execution_count": 19,
      "outputs": [
        {
          "output_type": "execute_result",
          "data": {
            "text/html": [
              "<div>\n",
              "<style scoped>\n",
              "    .dataframe tbody tr th:only-of-type {\n",
              "        vertical-align: middle;\n",
              "    }\n",
              "\n",
              "    .dataframe tbody tr th {\n",
              "        vertical-align: top;\n",
              "    }\n",
              "\n",
              "    .dataframe thead th {\n",
              "        text-align: right;\n",
              "    }\n",
              "</style>\n",
              "<table border=\"1\" class=\"dataframe\">\n",
              "  <thead>\n",
              "    <tr style=\"text-align: right;\">\n",
              "      <th></th>\n",
              "      <th>AAPL</th>\n",
              "      <th>TSLA</th>\n",
              "      <th>GILD</th>\n",
              "      <th>MELI</th>\n",
              "      <th>MSFT</th>\n",
              "      <th>DIS</th>\n",
              "      <th>NVDA</th>\n",
              "      <th>TCO</th>\n",
              "      <th>MMM</th>\n",
              "      <th>INCY</th>\n",
              "      <th>IBM</th>\n",
              "      <th>EPC</th>\n",
              "      <th>SPY</th>\n",
              "      <th>VEA</th>\n",
              "      <th>VTI</th>\n",
              "    </tr>\n",
              "  </thead>\n",
              "  <tbody>\n",
              "    <tr>\n",
              "      <th>AAPL</th>\n",
              "      <td>0.000285</td>\n",
              "      <td>0.000103</td>\n",
              "      <td>0.000061</td>\n",
              "      <td>0.000087</td>\n",
              "      <td>0.000072</td>\n",
              "      <td>0.000056</td>\n",
              "      <td>0.000082</td>\n",
              "      <td>0.000042</td>\n",
              "      <td>0.000055</td>\n",
              "      <td>0.000082</td>\n",
              "      <td>0.000058</td>\n",
              "      <td>0.000051</td>\n",
              "      <td>0.000065</td>\n",
              "      <td>0.000061</td>\n",
              "      <td>0.000066</td>\n",
              "    </tr>\n",
              "    <tr>\n",
              "      <th>TSLA</th>\n",
              "      <td>0.000103</td>\n",
              "      <td>0.001102</td>\n",
              "      <td>0.000140</td>\n",
              "      <td>0.000219</td>\n",
              "      <td>0.000098</td>\n",
              "      <td>0.000095</td>\n",
              "      <td>0.000121</td>\n",
              "      <td>0.000055</td>\n",
              "      <td>0.000082</td>\n",
              "      <td>0.000207</td>\n",
              "      <td>0.000072</td>\n",
              "      <td>0.000090</td>\n",
              "      <td>0.000092</td>\n",
              "      <td>0.000089</td>\n",
              "      <td>0.000098</td>\n",
              "    </tr>\n",
              "    <tr>\n",
              "      <th>GILD</th>\n",
              "      <td>0.000061</td>\n",
              "      <td>0.000140</td>\n",
              "      <td>0.000384</td>\n",
              "      <td>0.000116</td>\n",
              "      <td>0.000068</td>\n",
              "      <td>0.000076</td>\n",
              "      <td>0.000079</td>\n",
              "      <td>0.000051</td>\n",
              "      <td>0.000067</td>\n",
              "      <td>0.000220</td>\n",
              "      <td>0.000050</td>\n",
              "      <td>0.000071</td>\n",
              "      <td>0.000076</td>\n",
              "      <td>0.000072</td>\n",
              "      <td>0.000078</td>\n",
              "    </tr>\n",
              "    <tr>\n",
              "      <th>MELI</th>\n",
              "      <td>0.000087</td>\n",
              "      <td>0.000219</td>\n",
              "      <td>0.000116</td>\n",
              "      <td>0.000587</td>\n",
              "      <td>0.000087</td>\n",
              "      <td>0.000095</td>\n",
              "      <td>0.000134</td>\n",
              "      <td>0.000053</td>\n",
              "      <td>0.000085</td>\n",
              "      <td>0.000182</td>\n",
              "      <td>0.000076</td>\n",
              "      <td>0.000080</td>\n",
              "      <td>0.000095</td>\n",
              "      <td>0.000104</td>\n",
              "      <td>0.000100</td>\n",
              "    </tr>\n",
              "    <tr>\n",
              "      <th>MSFT</th>\n",
              "      <td>0.000072</td>\n",
              "      <td>0.000098</td>\n",
              "      <td>0.000068</td>\n",
              "      <td>0.000087</td>\n",
              "      <td>0.000218</td>\n",
              "      <td>0.000069</td>\n",
              "      <td>0.000106</td>\n",
              "      <td>0.000042</td>\n",
              "      <td>0.000063</td>\n",
              "      <td>0.000083</td>\n",
              "      <td>0.000072</td>\n",
              "      <td>0.000056</td>\n",
              "      <td>0.000070</td>\n",
              "      <td>0.000068</td>\n",
              "      <td>0.000070</td>\n",
              "    </tr>\n",
              "    <tr>\n",
              "      <th>DIS</th>\n",
              "      <td>0.000056</td>\n",
              "      <td>0.000095</td>\n",
              "      <td>0.000076</td>\n",
              "      <td>0.000095</td>\n",
              "      <td>0.000069</td>\n",
              "      <td>0.000146</td>\n",
              "      <td>0.000082</td>\n",
              "      <td>0.000049</td>\n",
              "      <td>0.000060</td>\n",
              "      <td>0.000100</td>\n",
              "      <td>0.000049</td>\n",
              "      <td>0.000055</td>\n",
              "      <td>0.000065</td>\n",
              "      <td>0.000066</td>\n",
              "      <td>0.000066</td>\n",
              "    </tr>\n",
              "    <tr>\n",
              "      <th>NVDA</th>\n",
              "      <td>0.000082</td>\n",
              "      <td>0.000121</td>\n",
              "      <td>0.000079</td>\n",
              "      <td>0.000134</td>\n",
              "      <td>0.000106</td>\n",
              "      <td>0.000082</td>\n",
              "      <td>0.000323</td>\n",
              "      <td>0.000049</td>\n",
              "      <td>0.000071</td>\n",
              "      <td>0.000099</td>\n",
              "      <td>0.000068</td>\n",
              "      <td>0.000059</td>\n",
              "      <td>0.000076</td>\n",
              "      <td>0.000074</td>\n",
              "      <td>0.000078</td>\n",
              "    </tr>\n",
              "    <tr>\n",
              "      <th>TCO</th>\n",
              "      <td>0.000042</td>\n",
              "      <td>0.000055</td>\n",
              "      <td>0.000051</td>\n",
              "      <td>0.000053</td>\n",
              "      <td>0.000042</td>\n",
              "      <td>0.000049</td>\n",
              "      <td>0.000049</td>\n",
              "      <td>0.000131</td>\n",
              "      <td>0.000043</td>\n",
              "      <td>0.000082</td>\n",
              "      <td>0.000037</td>\n",
              "      <td>0.000042</td>\n",
              "      <td>0.000045</td>\n",
              "      <td>0.000047</td>\n",
              "      <td>0.000046</td>\n",
              "    </tr>\n",
              "    <tr>\n",
              "      <th>MMM</th>\n",
              "      <td>0.000055</td>\n",
              "      <td>0.000082</td>\n",
              "      <td>0.000067</td>\n",
              "      <td>0.000085</td>\n",
              "      <td>0.000063</td>\n",
              "      <td>0.000060</td>\n",
              "      <td>0.000071</td>\n",
              "      <td>0.000043</td>\n",
              "      <td>0.000096</td>\n",
              "      <td>0.000083</td>\n",
              "      <td>0.000053</td>\n",
              "      <td>0.000055</td>\n",
              "      <td>0.000060</td>\n",
              "      <td>0.000064</td>\n",
              "      <td>0.000060</td>\n",
              "    </tr>\n",
              "    <tr>\n",
              "      <th>INCY</th>\n",
              "      <td>0.000082</td>\n",
              "      <td>0.000207</td>\n",
              "      <td>0.000220</td>\n",
              "      <td>0.000182</td>\n",
              "      <td>0.000083</td>\n",
              "      <td>0.000100</td>\n",
              "      <td>0.000099</td>\n",
              "      <td>0.000082</td>\n",
              "      <td>0.000083</td>\n",
              "      <td>0.000978</td>\n",
              "      <td>0.000062</td>\n",
              "      <td>0.000090</td>\n",
              "      <td>0.000099</td>\n",
              "      <td>0.000093</td>\n",
              "      <td>0.000106</td>\n",
              "    </tr>\n",
              "    <tr>\n",
              "      <th>IBM</th>\n",
              "      <td>0.000058</td>\n",
              "      <td>0.000072</td>\n",
              "      <td>0.000050</td>\n",
              "      <td>0.000076</td>\n",
              "      <td>0.000072</td>\n",
              "      <td>0.000049</td>\n",
              "      <td>0.000068</td>\n",
              "      <td>0.000037</td>\n",
              "      <td>0.000053</td>\n",
              "      <td>0.000062</td>\n",
              "      <td>0.000136</td>\n",
              "      <td>0.000047</td>\n",
              "      <td>0.000056</td>\n",
              "      <td>0.000059</td>\n",
              "      <td>0.000056</td>\n",
              "    </tr>\n",
              "    <tr>\n",
              "      <th>EPC</th>\n",
              "      <td>0.000051</td>\n",
              "      <td>0.000090</td>\n",
              "      <td>0.000071</td>\n",
              "      <td>0.000080</td>\n",
              "      <td>0.000056</td>\n",
              "      <td>0.000055</td>\n",
              "      <td>0.000059</td>\n",
              "      <td>0.000042</td>\n",
              "      <td>0.000055</td>\n",
              "      <td>0.000090</td>\n",
              "      <td>0.000047</td>\n",
              "      <td>0.000202</td>\n",
              "      <td>0.000055</td>\n",
              "      <td>0.000054</td>\n",
              "      <td>0.000056</td>\n",
              "    </tr>\n",
              "    <tr>\n",
              "      <th>SPY</th>\n",
              "      <td>0.000065</td>\n",
              "      <td>0.000092</td>\n",
              "      <td>0.000076</td>\n",
              "      <td>0.000095</td>\n",
              "      <td>0.000070</td>\n",
              "      <td>0.000065</td>\n",
              "      <td>0.000076</td>\n",
              "      <td>0.000045</td>\n",
              "      <td>0.000060</td>\n",
              "      <td>0.000099</td>\n",
              "      <td>0.000056</td>\n",
              "      <td>0.000055</td>\n",
              "      <td>0.000064</td>\n",
              "      <td>0.000065</td>\n",
              "      <td>0.000065</td>\n",
              "    </tr>\n",
              "    <tr>\n",
              "      <th>VEA</th>\n",
              "      <td>0.000061</td>\n",
              "      <td>0.000089</td>\n",
              "      <td>0.000072</td>\n",
              "      <td>0.000104</td>\n",
              "      <td>0.000068</td>\n",
              "      <td>0.000066</td>\n",
              "      <td>0.000074</td>\n",
              "      <td>0.000047</td>\n",
              "      <td>0.000064</td>\n",
              "      <td>0.000093</td>\n",
              "      <td>0.000059</td>\n",
              "      <td>0.000054</td>\n",
              "      <td>0.000065</td>\n",
              "      <td>0.000091</td>\n",
              "      <td>0.000066</td>\n",
              "    </tr>\n",
              "    <tr>\n",
              "      <th>VTI</th>\n",
              "      <td>0.000066</td>\n",
              "      <td>0.000098</td>\n",
              "      <td>0.000078</td>\n",
              "      <td>0.000100</td>\n",
              "      <td>0.000070</td>\n",
              "      <td>0.000066</td>\n",
              "      <td>0.000078</td>\n",
              "      <td>0.000046</td>\n",
              "      <td>0.000060</td>\n",
              "      <td>0.000106</td>\n",
              "      <td>0.000056</td>\n",
              "      <td>0.000056</td>\n",
              "      <td>0.000065</td>\n",
              "      <td>0.000066</td>\n",
              "      <td>0.000066</td>\n",
              "    </tr>\n",
              "  </tbody>\n",
              "</table>\n",
              "</div>"
            ],
            "text/plain": [
              "          AAPL      TSLA      GILD  ...       SPY       VEA       VTI\n",
              "AAPL  0.000285  0.000103  0.000061  ...  0.000065  0.000061  0.000066\n",
              "TSLA  0.000103  0.001102  0.000140  ...  0.000092  0.000089  0.000098\n",
              "GILD  0.000061  0.000140  0.000384  ...  0.000076  0.000072  0.000078\n",
              "MELI  0.000087  0.000219  0.000116  ...  0.000095  0.000104  0.000100\n",
              "MSFT  0.000072  0.000098  0.000068  ...  0.000070  0.000068  0.000070\n",
              "DIS   0.000056  0.000095  0.000076  ...  0.000065  0.000066  0.000066\n",
              "NVDA  0.000082  0.000121  0.000079  ...  0.000076  0.000074  0.000078\n",
              "TCO   0.000042  0.000055  0.000051  ...  0.000045  0.000047  0.000046\n",
              "MMM   0.000055  0.000082  0.000067  ...  0.000060  0.000064  0.000060\n",
              "INCY  0.000082  0.000207  0.000220  ...  0.000099  0.000093  0.000106\n",
              "IBM   0.000058  0.000072  0.000050  ...  0.000056  0.000059  0.000056\n",
              "EPC   0.000051  0.000090  0.000071  ...  0.000055  0.000054  0.000056\n",
              "SPY   0.000065  0.000092  0.000076  ...  0.000064  0.000065  0.000065\n",
              "VEA   0.000061  0.000089  0.000072  ...  0.000065  0.000091  0.000066\n",
              "VTI   0.000066  0.000098  0.000078  ...  0.000065  0.000066  0.000066\n",
              "\n",
              "[15 rows x 15 columns]"
            ]
          },
          "metadata": {
            "tags": []
          },
          "execution_count": 19
        }
      ]
    },
    {
      "cell_type": "code",
      "metadata": {
        "id": "3DhH-iKMLGsK",
        "colab_type": "code",
        "colab": {}
      },
      "source": [
        "from scipy.stats import multivariate_normal\n",
        "\n",
        "loss_appx=np.zeros(5000)\n",
        "linloss_appx=np.zeros(5000)\n",
        "loss=0\n",
        "linloss=0\n",
        "for i in range(5000):\n",
        "  loss=0\n",
        "  linloss=0\n",
        "  var = np.random.multivariate_normal(mean=u, cov=cov_mat)\n",
        "  for j in range(len(index_list)):\n",
        "    a=index_list[j]\n",
        "    linloss+=update_list[-1].loc[a]['Share']*update_list[-1].loc[a]['Adj Close']*var[j]\n",
        "    loss+=update_list[-1].loc[a]['Share']*update_list[-1].loc[a]['Adj Close']*(np.exp(var[j])-1)\n",
        "  linloss_appx[i]=-linloss\n",
        "  loss_appx[i]=-loss\n",
        "\n",
        "#linloss_appx\n",
        "#loss_appx"
      ],
      "execution_count": 0,
      "outputs": []
    },
    {
      "cell_type": "code",
      "metadata": {
        "id": "OyK2ALwLLG5I",
        "colab_type": "code",
        "colab": {}
      },
      "source": [
        "def pdf_function(loss):\n",
        "  sns.distplot(linloss_appx)"
      ],
      "execution_count": 0,
      "outputs": []
    },
    {
      "cell_type": "code",
      "metadata": {
        "id": "r0HWLhDkLHAS",
        "colab_type": "code",
        "outputId": "b88f6091-4722-4264-acf7-68febf3370db",
        "colab": {
          "base_uri": "https://localhost:8080/",
          "height": 168
        }
      },
      "source": [
        "pdf_function(loss_appx,'loss pdf')"
      ],
      "execution_count": 22,
      "outputs": [
        {
          "output_type": "error",
          "ename": "TypeError",
          "evalue": "ignored",
          "traceback": [
            "\u001b[0;31m---------------------------------------------------------------------------\u001b[0m",
            "\u001b[0;31mTypeError\u001b[0m                                 Traceback (most recent call last)",
            "\u001b[0;32m<ipython-input-22-242568de0590>\u001b[0m in \u001b[0;36m<module>\u001b[0;34m()\u001b[0m\n\u001b[0;32m----> 1\u001b[0;31m \u001b[0mpdf_function\u001b[0m\u001b[0;34m(\u001b[0m\u001b[0mloss_appx\u001b[0m\u001b[0;34m,\u001b[0m\u001b[0;34m'loss pdf'\u001b[0m\u001b[0;34m)\u001b[0m\u001b[0;34m\u001b[0m\u001b[0;34m\u001b[0m\u001b[0m\n\u001b[0m",
            "\u001b[0;31mTypeError\u001b[0m: pdf_function() takes 1 positional argument but 2 were given"
          ]
        }
      ]
    },
    {
      "cell_type": "code",
      "metadata": {
        "id": "Dz6T4bFY5lqB",
        "colab_type": "code",
        "colab": {}
      },
      "source": [
        "pdf_function(linloss_appx)"
      ],
      "execution_count": 0,
      "outputs": []
    },
    {
      "cell_type": "code",
      "metadata": {
        "id": "wzs_V2EGDxlu",
        "colab_type": "code",
        "colab": {}
      },
      "source": [
        "def cdf_function(loss,title_name):\n",
        "  ser = pd.Series(loss)\n",
        "  ser = ser.sort_values()\n",
        "  ser[len(ser)] = ser.iloc[-1]\n",
        "  cum_dist = np.linspace(0.,1.,len(ser))\n",
        "  ser_cdf = pd.Series(cum_dist, index=ser)\n",
        "  ser_cdf.plot(drawstyle='steps',title=title_name)"
      ],
      "execution_count": 0,
      "outputs": []
    },
    {
      "cell_type": "code",
      "metadata": {
        "id": "3NRnJxiEEBBV",
        "colab_type": "code",
        "colab": {}
      },
      "source": [
        "cdf_function(loss_appx,'loss cdf')"
      ],
      "execution_count": 0,
      "outputs": []
    },
    {
      "cell_type": "code",
      "metadata": {
        "id": "V6bvFSwBw_f7",
        "colab_type": "code",
        "colab": {}
      },
      "source": [
        "cdf_function(linloss_appx,'linearized loss cdf')"
      ],
      "execution_count": 0,
      "outputs": []
    },
    {
      "cell_type": "code",
      "metadata": {
        "id": "QaooZqYX0yQP",
        "colab_type": "code",
        "colab": {}
      },
      "source": [
        ""
      ],
      "execution_count": 0,
      "outputs": []
    }
  ]
}