{
  "nbformat": 4,
  "nbformat_minor": 0,
  "metadata": {
    "colab": {
      "name": "“20bsm_calibration_v01hw.ipynb”的副本",
      "provenance": [],
      "include_colab_link": true
    },
    "kernelspec": {
      "display_name": "Python 3",
      "language": "python",
      "name": "python3"
    },
    "language_info": {
      "codemirror_mode": {
        "name": "ipython",
        "version": 3
      },
      "file_extension": ".py",
      "mimetype": "text/x-python",
      "name": "python",
      "nbconvert_exporter": "python",
      "pygments_lexer": "ipython3",
      "version": "3.6.4"
    }
  },
  "cells": [
    {
      "cell_type": "markdown",
      "metadata": {
        "id": "view-in-github",
        "colab_type": "text"
      },
      "source": [
        "<a href=\"https://colab.research.google.com/github/Bertha-ding/20MA573-yuning-ding/blob/master/hw/hw4-2.ipynb\" target=\"_parent\"><img src=\"https://colab.research.google.com/assets/colab-badge.svg\" alt=\"Open In Colab\"/></a>"
      ]
    },
    {
      "cell_type": "markdown",
      "metadata": {
        "colab_type": "text",
        "id": "VBlkqbgUvQ6k"
      },
      "source": [
        "# Volatility calibration to BSM"
      ]
    },
    {
      "cell_type": "markdown",
      "metadata": {
        "colab_type": "text",
        "id": "gxxtEM40t092"
      },
      "source": [
        "## Abstract\n",
        "\n",
        "- Goal\n",
        "    - Calibrate BSM model for makert price of options\n"
      ]
    },
    {
      "cell_type": "markdown",
      "metadata": {
        "colab_type": "text",
        "id": "Y0jFTVYPt1Ot"
      },
      "source": [
        "## Problem\n",
        "\n",
        "All of pricing models require a set of model parameters in order to fully define the dynamics of each model. The process of adjusting model parameters such that the model prices are compatible with market prices is called **Calibration**. \n",
        "\n",
        "Input:\n",
        "\n",
        "- market prices of several options with different strikes and maturities\n",
        "- spot price\n",
        "- interest rates\n",
        "\n",
        "Output:\n",
        "\n",
        "- Find volatility of BSM model"
      ]
    },
    {
      "cell_type": "markdown",
      "metadata": {
        "colab_type": "text",
        "id": "imn9O8Qcu1iW"
      },
      "source": [
        "## Anal\n",
        "\n",
        "\n",
        "Suppose\n",
        "- Model prameter $\\theta = (\\theta_1, ... \\theta_m)$ is a vector\n",
        "- Prices of $n$ instruments are aviable in the market with its market price of $i$th instrument quoted by $C_i$. \n",
        "Let's denote $C = (C_1, ..., C_n)$ as a market price vector.\n",
        "- In theory, $C_i^\\theta$ is the model price of the $i$th instrument, and they are denoted as a vector $C^\\theta = (C_1^\\theta, ...,  C^\\theta_n)$. \n",
        "\n",
        "Given a distance function $H: \\mathbb R^n \\times \\mathbb R^n \\mapsto \\mathbb R^+$, calibration is to find the parameter $\\theta^*$  which minimize the objective function $H(C^\\theta, C)$, i.e.\n",
        "$$ \\theta^* = \\arg\\min_\\theta H(C^\\theta, C).$$\n",
        "\n",
        "Commonly used distance functions for $H$ are \n",
        "- $H(x, y) = (\\sum_{i=1}^n w_i |x_i - y_i|^p)^{1/p}.$\n",
        "- $H(x, y) = (\\sum_{i=1}^n w_i | \\frac{x_i - y_i}{y_i}|^p)^{1/p}.$ If $p = 2$, $w_i =1$, then $H^2$ is called as SSRE (sum of squred relative errors)\n",
        "- $H(x, y) = (\\sum_{i=1}^n w_i |\\ln x - \\ln y|^p)^{1/p}.$\n",
        "\n",
        "In this below, we are goint to use, the first case of $H$ with $p = 2$ and $w_i = 1$ for all i's."
      ]
    },
    {
      "cell_type": "markdown",
      "metadata": {
        "id": "I7Id5NE-hOaZ",
        "colab_type": "text"
      },
      "source": [
        "# Hw Tasks"
      ]
    },
    {
      "cell_type": "markdown",
      "metadata": {
        "id": "ipfXGogphZ79",
        "colab_type": "text"
      },
      "source": [
        "## Task-1\n",
        "\n",
        "- Upload data from [here](https://github.com/songqsh/20s_ma573/blob/master/src/20optiondata2.dat) to your cloud platform\n",
        "- Calibration/Performance:\n",
        "  - Filter out 2-mon options and calibrate volatility using the distance function\n",
        "$$H(x, y) = (\\sum_{i=1}^n w_i |x_i - y_i|^2)^{1/2}.$$\n",
        "  - Calibrated price for option means the computed option price using calibrated volatility and other parameters given by the market. Compare the market price and calibrated price using a plot of two curves: strike vs market (calibrated) price\n",
        "- Do the same thing for the filter from 5-mon options.\n",
        "- Which calibrated volatility is bigger, 2-mon or 5-mon?\n"
      ]
    },
    {
      "cell_type": "markdown",
      "metadata": {
        "id": "ArCLv-HDEPb4",
        "colab_type": "text"
      },
      "source": [
        "Import package from Github and check files"
      ]
    },
    {
      "cell_type": "code",
      "metadata": {
        "id": "NDG_P_kraU4-",
        "colab_type": "code",
        "outputId": "13322419-9941-47df-d4c5-2ebdbc4df931",
        "colab": {
          "base_uri": "https://localhost:8080/",
          "height": 102
        }
      },
      "source": [
        "%cd~\n",
        "\n",
        "!git clone https://github.com/Bertha-ding/20MA573-yuning-ding.git \n",
        "pass\n",
        "\n",
        "%cd 20MA573-yuning-ding/src/\n",
        "%ls"
      ],
      "execution_count": 66,
      "outputs": [
        {
          "output_type": "stream",
          "text": [
            "/root\n",
            "fatal: destination path '20MA573-yuning-ding' already exists and is not an empty directory.\n",
            "/root/20MA573-yuning-ding/src\n",
            "20optiondata2.dat  hw1_random_walk.ipynb  prj02.ipynb  \u001b[0m\u001b[01;34m__pycache__\u001b[0m/\n",
            "bsm.py             prj01.ipynb            prj03.ipynb  Untitled0.ipynb\n"
          ],
          "name": "stdout"
        }
      ]
    },
    {
      "cell_type": "markdown",
      "metadata": {
        "id": "7LOdnU-IEYFG",
        "colab_type": "text"
      },
      "source": [
        "import module and read data"
      ]
    },
    {
      "cell_type": "code",
      "metadata": {
        "id": "GN3vel7Jaoq_",
        "colab_type": "code",
        "outputId": "1b699f26-5026-4076-80c9-6fe773804576",
        "colab": {
          "base_uri": "https://localhost:8080/",
          "height": 170
        }
      },
      "source": [
        "from bsm import *\n",
        "import scipy.optimize as so\n",
        "import numpy as np\n",
        "import scipy.stats as ss\n",
        "\n",
        "#Read four-column data\n",
        "#columns are otype, maturity, strike, option_price\n",
        "np_option_data1 = np.loadtxt('20optiondata2.dat', comments='#', delimiter=',')\n",
        "\n",
        "print('>>>otype,>>>>>>> maturity, >>strike, >>>>>>option_price')\n",
        "print(np_option_data1)"
      ],
      "execution_count": 67,
      "outputs": [
        {
          "output_type": "stream",
          "text": [
            ">>>otype,>>>>>>> maturity, >>strike, >>>>>>option_price\n",
            "[[  1.           0.16666667  97.           5.32705461]\n",
            " [  1.           0.16666667  99.           3.86224255]\n",
            " [  1.           0.16666667 101.           2.7204371 ]\n",
            " [  1.           0.16666667 103.           2.1202793 ]\n",
            " [  1.           0.41666667  97.           7.23756307]\n",
            " [  1.           0.41666667  99.           5.95053461]\n",
            " [  1.           0.41666667 101.           5.2640122 ]\n",
            " [  1.           0.41666667 103.           4.97493422]]\n"
          ],
          "name": "stdout"
        }
      ]
    },
    {
      "cell_type": "markdown",
      "metadata": {
        "id": "0YBnE_cjEhrA",
        "colab_type": "text"
      },
      "source": [
        "define for assets"
      ]
    },
    {
      "cell_type": "code",
      "metadata": {
        "id": "SIOm27YrcFfu",
        "colab_type": "code",
        "colab": {}
      },
      "source": [
        "gbm1 = Gbm(\n",
        "    init_state = 100., \n",
        "    drift_ratio = .04,\n",
        "    vol_ratio = .2)"
      ],
      "execution_count": 0,
      "outputs": []
    },
    {
      "cell_type": "code",
      "metadata": {
        "id": "mNk47h8ziANM",
        "colab_type": "code",
        "colab": {}
      },
      "source": [
        "'''================\n",
        "define an error function\n",
        "===================='''\n",
        "def error_function(vol, gbm, option_list):\n",
        "  gbm.vol_ratio = vol\n",
        "  err = 0\n",
        "  for i in range(len(option_list)):\n",
        "    err = (err + abs((option_list[i]).market_price - gbm.bsm_price(option_list[i]))**2)   \n",
        "  return err\n",
        "\n",
        "  \n",
        "'''==========\n",
        "define a method to seek for an calibrate volatility\n",
        "============'''\n",
        "\n",
        "def implied_volatility(gbm, option_list):\n",
        "  init_vol = .1 #initial guess\n",
        "  return so.fmin(error_function, init_vol, args = (gbm, option_list), disp = 0)[0]\n"
      ],
      "execution_count": 0,
      "outputs": []
    },
    {
      "cell_type": "code",
      "metadata": {
        "id": "nPfiOb86eiOt",
        "colab_type": "code",
        "outputId": "085bb4bd-cde0-4b7c-cca1-d61a1b1ce59d",
        "colab": {
          "base_uri": "https://localhost:8080/",
          "height": 34
        }
      },
      "source": [
        "filter1 = np_option_data2[np_option_data2[:,1] == 2/12]\n",
        "num_row = filter1.shape[0]\n",
        "option_list = []\n",
        "\n",
        "for i in range(num_row):\n",
        "  option1 = VanillaOption(\n",
        "      otype = filter1[i,0],\n",
        "      strike = filter1[i,2],\n",
        "      maturity = filter1[i,1],\n",
        "      market_price = filter1[i,3]\n",
        "  )   \n",
        "  option_list.append(option1)\n",
        "  calibrated_volatility = implied_volatility(gbm1, option_list)\n",
        "print('The calibrated volatility for 2-mon is' ,calibrated_volatility)"
      ],
      "execution_count": 95,
      "outputs": [
        {
          "output_type": "stream",
          "text": [
            "The calibrated volatility for 2-mon is 0.18671875000000032\n"
          ],
          "name": "stdout"
        }
      ]
    },
    {
      "cell_type": "code",
      "metadata": {
        "id": "sUiiatjDjEGq",
        "colab_type": "code",
        "outputId": "67210091-216e-4b3d-825b-8baa4851e958",
        "colab": {
          "base_uri": "https://localhost:8080/",
          "height": 34
        }
      },
      "source": [
        "gbm1.vol_ratio = calibrated_volatility\n",
        "calibrated_price = []\n",
        "for i in range(len(option_list)):\n",
        "  model_price1 = gbm1.bsm_price(option_list[i]) \n",
        "  calibrated_price.append(model_price1)\n",
        "print (calibrated_price)"
      ],
      "execution_count": 96,
      "outputs": [
        {
          "output_type": "stream",
          "text": [
            "[5.154129043669769, 3.916185018579526, 2.8836760601712115, 2.0552774238826856]\n"
          ],
          "name": "stdout"
        }
      ]
    },
    {
      "cell_type": "code",
      "metadata": {
        "id": "SebO_WBYgjbx",
        "colab_type": "code",
        "colab": {
          "base_uri": "https://localhost:8080/",
          "height": 295
        },
        "outputId": "7e5fac69-90a3-456c-ab51-2acef287db9c"
      },
      "source": [
        "import matplotlib.pyplot as plt\n",
        "from pylab import plt\n",
        "\n",
        "x= [option_list[i].strike for i in range(len(option_list))]\n",
        "y = [option_list[i].market_price for i in range(len(option_list))]\n",
        "plt.plot(x, y, 'o', label='Market price')\n",
        "\n",
        "y = calibrated_price1\n",
        "plt.plot(x, y, 'r', label = 'Calibrated price')\n",
        "\n",
        "plt.ylabel('option price')\n",
        "plt.xlabel('strike')\n",
        "plt.title('2-mon')\n",
        "plt.legend();"
      ],
      "execution_count": 99,
      "outputs": [
        {
          "output_type": "display_data",
          "data": {
            "image/png": "[encoded data removed]",
            "text/plain": [
              "<Figure size 432x288 with 1 Axes>"
            ]
          },
          "metadata": {
            "tags": []
          }
        }
      ]
    },
    {
      "cell_type": "code",
      "metadata": {
        "id": "D37y7oUU7lOh",
        "colab_type": "code",
        "colab": {
          "base_uri": "https://localhost:8080/",
          "height": 34
        },
        "outputId": "5cd2b2b9-4899-49de-94b5-7a9d3577d5e5"
      },
      "source": [
        "filter2 = np_option_data2[np_option_data2[:,1] == 5/12]\n",
        "num_row = filter2.shape[0]\n",
        "option_list1 = []\n",
        "\n",
        "for i in range(num_row):\n",
        "  option2 = VanillaOption(\n",
        "      otype = filter2[i,0],\n",
        "      strike = filter2[i,2],\n",
        "      maturity = filter2[i,1],\n",
        "      market_price = filter2[i,3]\n",
        "  )   \n",
        "  option_list1.append(option2)\n",
        "  calibrated_volatility1 = implied_volatility(gbm1, option_list1)\n",
        "print('The calibrated volatility for 5-mon is' ,calibrated_volatility1)"
      ],
      "execution_count": 86,
      "outputs": [
        {
          "output_type": "stream",
          "text": [
            "The calibrated volatility for 5-mon is 0.19265625000000033\n"
          ],
          "name": "stdout"
        }
      ]
    },
    {
      "cell_type": "code",
      "metadata": {
        "id": "MFcqpagm7ssf",
        "colab_type": "code",
        "colab": {
          "base_uri": "https://localhost:8080/",
          "height": 34
        },
        "outputId": "b0b06f04-4800-4066-ef39-3ba9bf268cf6"
      },
      "source": [
        "gbm1.vol_ratio = calibrated_volatility1\n",
        "calibrated_price1 = []\n",
        "for i in range(len(option_list1)):\n",
        "  model_price2 = gbm1.bsm_price(option_list1[i]) \n",
        "  calibrated_price1.append(model_price2)\n",
        "print (calibrated_price1)"
      ],
      "execution_count": 87,
      "outputs": [
        {
          "output_type": "stream",
          "text": [
            "[7.488707764749314, 6.323147827044977, 5.283307299377867, 4.368157183386991]\n"
          ],
          "name": "stdout"
        }
      ]
    },
    {
      "cell_type": "code",
      "metadata": {
        "id": "c_TTI5MP81gR",
        "colab_type": "code",
        "colab": {
          "base_uri": "https://localhost:8080/",
          "height": 295
        },
        "outputId": "677e6f3a-01a9-4538-f1db-dda6a2db72d8"
      },
      "source": [
        "x1= [option_list1[i].strike for i in range(len(option_list1))]\n",
        "y1 = [option_list1[i].market_price for i in range(len(option_list1))]\n",
        "plt.plot(x1, y1, 'o', label='Market price')\n",
        "\n",
        "y2 = calibrated_price1\n",
        "plt.plot(x1, y2, 'r', label = 'Calibrated price')\n",
        "\n",
        "plt.ylabel('option price')\n",
        "plt.xlabel('strike')\n",
        "plt.title('5-mon')\n",
        "plt.legend();"
      ],
      "execution_count": 92,
      "outputs": [
        {
          "output_type": "display_data",
          "data": {
            "image/png": "[encoded data removed]",
            "text/plain": [
              "<Figure size 432x288 with 1 Axes>"
            ]
          },
          "metadata": {
            "tags": []
          }
        }
      ]
    },
    {
      "cell_type": "markdown",
      "metadata": {
        "id": "b_OWKmg6DUjF",
        "colab_type": "text"
      },
      "source": [
        "The volatility of 2-mon is higher than volatility of 5-mon."
      ]
    },
    {
      "cell_type": "markdown",
      "metadata": {
        "id": "DuovTMczlP_d",
        "colab_type": "text"
      },
      "source": [
        "## Task-2 (optional)\n",
        "Please discuss the validity of the following statements:\n",
        "- Given an underlying asset, options with shorter maturity can be better fitted than a longer maturity.\n",
        "- Suppose Assest1(ex. AAPL) is more liquid than Asset2 (ex. TAL). Then Asset1 can be fit better than Asset2."
      ]
    },
    {
      "cell_type": "code",
      "metadata": {
        "colab_type": "code",
        "id": "UOVUqxlEEqIG",
        "colab": {}
      },
      "source": [
        ""
      ],
      "execution_count": 0,
      "outputs": []
    },
    {
      "cell_type": "code",
      "metadata": {
        "id": "J0_ikDIrc-xj",
        "colab_type": "code",
        "colab": {}
      },
      "source": [
        ""
      ],
      "execution_count": 0,
      "outputs": []
    },
    {
      "cell_type": "code",
      "metadata": {
        "id": "4tO1FcoQc-xl",
        "colab_type": "code",
        "colab": {}
      },
      "source": [
        ""
      ],
      "execution_count": 0,
      "outputs": []
    }
  ]
}