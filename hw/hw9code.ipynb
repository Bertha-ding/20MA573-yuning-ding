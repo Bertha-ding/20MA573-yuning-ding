{
  "nbformat": 4,
  "nbformat_minor": 0,
  "metadata": {
    "colab": {
      "name": "Untitled8.ipynb",
      "provenance": [],
      "authorship_tag": "ABX9TyNFtsLu47xujwntdbVfa53D",
      "include_colab_link": true
    },
    "kernelspec": {
      "name": "python3",
      "display_name": "Python 3"
    }
  },
  "cells": [
    {
      "cell_type": "markdown",
      "metadata": {
        "id": "view-in-github",
        "colab_type": "text"
      },
      "source": [
        "<a href=\"https://colab.research.google.com/github/Bertha-ding/20MA573-yuning-ding/blob/master/hw/hw9code.ipynb\" target=\"_parent\"><img src=\"https://colab.research.google.com/assets/colab-badge.svg\" alt=\"Open In Colab\"/></a>"
      ]
    },
    {
      "cell_type": "code",
      "metadata": {
        "id": "UWV9YwTZGjCw",
        "colab_type": "code",
        "colab": {}
      },
      "source": [
        "import numpy as np\n"
      ],
      "execution_count": 0,
      "outputs": []
    },
    {
      "cell_type": "code",
      "metadata": {
        "id": "dhcRcWJjPK8f",
        "colab_type": "code",
        "colab": {}
      },
      "source": [
        "def init_val(n):\n",
        "  u=np.zeros([n+1,n+1])\n",
        "  for i in range(n+1):\n",
        "    for j in range(n+1):\n",
        "      if i==0 or i ==n or j==0 or j==n:\n",
        "        u[i,j] = (i/n-1/2)**2+(j/n-1/2)**2\n",
        "      else:\n",
        "        u[i,j] = 0\n",
        "  return u"
      ],
      "execution_count": 0,
      "outputs": []
    },
    {
      "cell_type": "code",
      "metadata": {
        "id": "2oWLO5mCQXaZ",
        "colab_type": "code",
        "colab": {
          "base_uri": "https://localhost:8080/",
          "height": 102
        },
        "outputId": "d5d0a65a-8e2e-43a1-9e9c-56d1f45576d0"
      },
      "source": [
        "init_val(4)"
      ],
      "execution_count": 38,
      "outputs": [
        {
          "output_type": "execute_result",
          "data": {
            "text/plain": [
              "array([[0.5   , 0.3125, 0.25  , 0.3125, 0.5   ],\n",
              "       [0.3125, 0.    , 0.    , 0.    , 0.3125],\n",
              "       [0.25  , 0.    , 0.    , 0.    , 0.25  ],\n",
              "       [0.3125, 0.    , 0.    , 0.    , 0.3125],\n",
              "       [0.5   , 0.3125, 0.25  , 0.3125, 0.5   ]])"
            ]
          },
          "metadata": {
            "tags": []
          },
          "execution_count": 38
        }
      ]
    },
    {
      "cell_type": "code",
      "metadata": {
        "id": "RfvDoH68Os4T",
        "colab_type": "code",
        "colab": {}
      },
      "source": [
        "def gamma(n):\n",
        "  h = 1/n\n",
        "  gamma = 2/(2 + h**2)\n",
        "\n",
        "  return gamma"
      ],
      "execution_count": 0,
      "outputs": []
    },
    {
      "cell_type": "code",
      "metadata": {
        "id": "zMNX2WdWQbEr",
        "colab_type": "code",
        "colab": {
          "base_uri": "https://localhost:8080/",
          "height": 34
        },
        "outputId": "5e255dba-6236-4281-9e02-ea70aae96c18"
      },
      "source": [
        "gamma(4)"
      ],
      "execution_count": 39,
      "outputs": [
        {
          "output_type": "execute_result",
          "data": {
            "text/plain": [
              "0.9696969696969697"
            ]
          },
          "metadata": {
            "tags": []
          },
          "execution_count": 39
        }
      ]
    },
    {
      "cell_type": "code",
      "metadata": {
        "id": "T5si5N90Ll66",
        "colab_type": "code",
        "colab": {}
      },
      "source": [
        "def lh(n):\n",
        "  h = 1/n\n",
        "  lh = np.zeros([n+1, n+1])\n",
        "  for i in range(n+1):\n",
        "    for j in range(n+1):\n",
        "      if i == 0 or i == n or j == 0 or j == n:\n",
        "        lh[i, j] = 0\n",
        "      else:\n",
        "        lh[i, j] = (h**2/2)*((i/n)**2+(j/n)**2 - i/n - j/n - 3/2)\n",
        "  return lh"
      ],
      "execution_count": 0,
      "outputs": []
    },
    {
      "cell_type": "code",
      "metadata": {
        "id": "EY_w2HYoQcim",
        "colab_type": "code",
        "colab": {
          "base_uri": "https://localhost:8080/",
          "height": 102
        },
        "outputId": "895ea541-6891-4118-c77c-3101560662ed"
      },
      "source": [
        "lh(4)"
      ],
      "execution_count": 40,
      "outputs": [
        {
          "output_type": "execute_result",
          "data": {
            "text/plain": [
              "array([[ 0.        ,  0.        ,  0.        ,  0.        ,  0.        ],\n",
              "       [ 0.        , -0.05859375, -0.06054688, -0.05859375,  0.        ],\n",
              "       [ 0.        , -0.06054688, -0.0625    , -0.06054688,  0.        ],\n",
              "       [ 0.        , -0.05859375, -0.06054688, -0.05859375,  0.        ],\n",
              "       [ 0.        ,  0.        ,  0.        ,  0.        ,  0.        ]])"
            ]
          },
          "metadata": {
            "tags": []
          },
          "execution_count": 40
        }
      ]
    },
    {
      "cell_type": "code",
      "metadata": {
        "id": "_Ejw77MJKPZ-",
        "colab_type": "code",
        "colab": {}
      },
      "source": [
        "def F(n, u):\n",
        "  h = 1/n\n",
        "  l= lh(n)\n",
        "  v = np.zeros([n+1, n+1])\n",
        "  for i in range(0, n+1):\n",
        "    for j in range(0, n+1):\n",
        "      if i == 0 or i == n or j == 0 or j == n:\n",
        "        v[i, j] = u[i, j]\n",
        "      else:\n",
        "        v[i, j] = gamma(n) * l[i, j] + gamma(n) * (u[i+1, j] + u[i, j+1] + u[i, j-1] + u[i-1, j]) / 4\n",
        "  \n",
        "  return v\n"
      ],
      "execution_count": 0,
      "outputs": []
    },
    {
      "cell_type": "code",
      "metadata": {
        "id": "bjUo4Bh2NiEX",
        "colab_type": "code",
        "colab": {
          "base_uri": "https://localhost:8080/",
          "height": 102
        },
        "outputId": "ccb03e35-31e5-4218-d0ef-37a0d5eb9480"
      },
      "source": [
        "def VI(n, tolerance=0.0001):\n",
        "  v = init_val(n)\n",
        "  err = 0.1\n",
        "  n_hat = 0\n",
        "  if err>tolerance:\n",
        "    n_hat +=1\n",
        "    u = v\n",
        "    v = F(n,u)\n",
        "    err=np.max(np.abs(u-v))\n",
        "  return [err,v]\n",
        "\n",
        "print(VI(4, tolerance=0.0001))"
      ],
      "execution_count": 58,
      "outputs": [
        {
          "output_type": "stream",
          "text": [
            "[0.0946969696969697, array([[ 0.5       ,  0.3125    ,  0.25      ,  0.3125    ,  0.5       ],\n",
            "       [ 0.3125    ,  0.09469697,  0.00189394,  0.09469697,  0.3125    ],\n",
            "       [ 0.25      ,  0.00189394, -0.06060606,  0.00189394,  0.25      ],\n",
            "       [ 0.3125    ,  0.09469697,  0.00189394,  0.09469697,  0.3125    ],\n",
            "       [ 0.5       ,  0.3125    ,  0.25      ,  0.3125    ,  0.5       ]])]\n"
          ],
          "name": "stdout"
        }
      ]
    },
    {
      "cell_type": "code",
      "metadata": {
        "id": "4dEJQMLpS0h6",
        "colab_type": "code",
        "colab": {
          "base_uri": "https://localhost:8080/",
          "height": 221
        },
        "outputId": "a18a2d97-4a80-448e-ac7b-3e7cae8b1039"
      },
      "source": [
        "def exact_val(n):\n",
        "  exact_val = np.zeros([n+1, n+1])\n",
        "  for i in range(0, n+1):\n",
        "    for j in range(0, n+1):\n",
        "      exact_val[i, j] = (i/n - 0.5)**2 + (j/n - 0.5)**2\n",
        "  \n",
        "  return exact_val\n",
        "\n",
        "print(\"The exact value of the PDE is:\")\n",
        "print(exact_val(4))\n",
        "print(\"The computed value of the PDE is:\")\n",
        "print(VI(4, tolerance=0.0001)[1])\n"
      ],
      "execution_count": 66,
      "outputs": [
        {
          "output_type": "stream",
          "text": [
            "The exact value of the PDE is:\n",
            "[[0.5    0.3125 0.25   0.3125 0.5   ]\n",
            " [0.3125 0.125  0.0625 0.125  0.3125]\n",
            " [0.25   0.0625 0.     0.0625 0.25  ]\n",
            " [0.3125 0.125  0.0625 0.125  0.3125]\n",
            " [0.5    0.3125 0.25   0.3125 0.5   ]]\n",
            "The computed value of the PDE is:\n",
            "[[ 0.5         0.3125      0.25        0.3125      0.5       ]\n",
            " [ 0.3125      0.09469697  0.00189394  0.09469697  0.3125    ]\n",
            " [ 0.25        0.00189394 -0.06060606  0.00189394  0.25      ]\n",
            " [ 0.3125      0.09469697  0.00189394  0.09469697  0.3125    ]\n",
            " [ 0.5         0.3125      0.25        0.3125      0.5       ]]\n"
          ],
          "name": "stdout"
        }
      ]
    },
    {
      "cell_type": "markdown",
      "metadata": {
        "id": "IPwxtJvXVdzW",
        "colab_type": "text"
      },
      "source": [
        "for h = 2**(-i), i=2,3,4,5"
      ]
    },
    {
      "cell_type": "code",
      "metadata": {
        "id": "bjOSY1cbTCQZ",
        "colab_type": "code",
        "colab": {
          "base_uri": "https://localhost:8080/",
          "height": 85
        },
        "outputId": "5644becb-0594-41e7-9a91-fad66fd9d480"
      },
      "source": [
        "for i in range(4):\n",
        "  n = 2**(i+2)\n",
        "  h =1/n\n",
        "  err = np.max(np.abs(VI(n, tolerance=0.0001)[1]  - exact_val(n)))\n",
        "  print(err)\n",
        "  "
      ],
      "execution_count": 76,
      "outputs": [
        {
          "output_type": "stream",
          "text": [
            "0.06060606060606061\n",
            "0.13953488372093023\n",
            "0.28460038986354774\n",
            "0.383601756954612\n"
          ],
          "name": "stdout"
        }
      ]
    },
    {
      "cell_type": "code",
      "metadata": {
        "id": "ojxPhU52WHya",
        "colab_type": "code",
        "colab": {}
      },
      "source": [
        ""
      ],
      "execution_count": 0,
      "outputs": []
    }
  ]
}