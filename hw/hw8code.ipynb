{
  "nbformat": 4,
  "nbformat_minor": 0,
  "metadata": {
    "colab": {
      "name": "Untitled0.ipynb",
      "provenance": [],
      "collapsed_sections": [],
      "authorship_tag": "ABX9TyOHIzeVjMXyW909eAsI5W7u",
      "include_colab_link": true
    },
    "kernelspec": {
      "name": "python3",
      "display_name": "Python 3"
    }
  },
  "cells": [
    {
      "cell_type": "markdown",
      "metadata": {
        "id": "view-in-github",
        "colab_type": "text"
      },
      "source": [
        "<a href=\"https://colab.research.google.com/github/Bertha-ding/20MA573-yuning-ding/blob/master/hw/hw8code.ipynb\" target=\"_parent\"><img src=\"https://colab.research.google.com/assets/colab-badge.svg\" alt=\"Open In Colab\"/></a>"
      ]
    },
    {
      "cell_type": "markdown",
      "metadata": {
        "id": "2Zw3u1f-_u4q",
        "colab_type": "text"
      },
      "source": [
        "## Compute CFD solution\n",
        "\n",
        "$ h = \\frac{1}{5}$ and $\\epsilon = 10^{-10}$, below is Lh\n",
        "$$ A = \n",
        " \\begin{bmatrix}\n",
        " 1  &  0  &  0  &  0  &  0  & 0  \\\\\n",
        " -r &  s  & -r  &  0  &  0  & 0  \\\\\n",
        " 0  & -r  & s   &  -r &  0  & 0  \\\\\n",
        " 0  &  0  & -r  &  s  & -r  & 0   \\\\\n",
        " 0  &  0  & 0   & -r  &  s  & -r  \\\\\n",
        " 0  &  0  & 0   &  0  &  0  &  1 \n",
        "\\end{bmatrix}\n",
        "$$"
      ]
    },
    {
      "cell_type": "code",
      "metadata": {
        "id": "Qa21xfmesKE7",
        "colab_type": "code",
        "colab": {}
      },
      "source": [
        "import numpy as np\n",
        "from scipy.linalg import solve\n",
        "e = 10**(-10)\n",
        "interval_num = 5\n",
        "r = e*(interval_num**2)\n",
        "s = 2*r + 1\n",
        "Rhf = np.zeros((interval_num+1))\n",
        "Rhf[0] = 0\n",
        "Rhf[-1] = 0\n",
        "for i in range(interval_num):\n",
        "  Rhf[i+1] = Rhf[i] + 1/interval_num\n",
        "Lhuh=np.zeros((interval_num+1,interval_num+1))\n",
        "Lhuh[0,0]=1\n",
        "Lhuh[-1,-1]=1\n",
        "for i in range(interval_num-1):\n",
        "  Lhuh[i+1,i]=-r\n",
        "  Lhuh[i+1,i+1]=s\n",
        "  Lhuh[i+1,i+2]=-r\n",
        "uh = solve(Lhuh,Rhf)"
      ],
      "execution_count": 0,
      "outputs": []
    },
    {
      "cell_type": "code",
      "metadata": {
        "id": "vzDmVCmv88KK",
        "colab_type": "code",
        "colab": {
          "base_uri": "https://localhost:8080/",
          "height": 34
        },
        "outputId": "55b4a119-8f24-4dd8-b476-3af589c3dc7d"
      },
      "source": [
        "uh"
      ],
      "execution_count": 47,
      "outputs": [
        {
          "output_type": "execute_result",
          "data": {
            "text/plain": [
              "array([0. , 0.2, 0.4, 0.6, 0.8, 1. ])"
            ]
          },
          "metadata": {
            "tags": []
          },
          "execution_count": 47
        }
      ]
    },
    {
      "cell_type": "markdown",
      "metadata": {
        "id": "aXM6u7tLEvrg",
        "colab_type": "text"
      },
      "source": [
        "# Compare CFD with FEM"
      ]
    },
    {
      "cell_type": "code",
      "metadata": {
        "id": "zUHB7j7rIztm",
        "colab_type": "code",
        "colab": {}
      },
      "source": [
        "e = 10**(-10)\n",
        "interval_num = 9\n",
        "r = e*(interval_num**2)\n",
        "s = 2*r + 1\n",
        "Rhf = np.zeros((interval_num+1))\n",
        "Rhf[0] = 0\n",
        "Rhf[-1] = 0\n",
        "for i in range(interval_num):\n",
        "  Rhf[i+1] = Rhf[i] + 1/interval_num\n",
        "Lhuh=np.zeros((interval_num+1,interval_num+1))\n",
        "Lhuh[0,0]=1\n",
        "Lhuh[-1,-1]=1\n",
        "for i in range(interval_num-1):\n",
        "  Lhuh[i+1,i]=-r\n",
        "  Lhuh[i+1,i+1]=s\n",
        "  Lhuh[i+1,i+2]=-r\n",
        "uh = solve(Lhuh,Rhf)"
      ],
      "execution_count": 0,
      "outputs": []
    },
    {
      "cell_type": "code",
      "metadata": {
        "id": "6NnGQxW7KLNl",
        "colab_type": "code",
        "colab": {
          "base_uri": "https://localhost:8080/",
          "height": 51
        },
        "outputId": "fd764cf0-130e-4bfe-b5d0-46e0a5ad4df1"
      },
      "source": [
        "uh"
      ],
      "execution_count": 49,
      "outputs": [
        {
          "output_type": "execute_result",
          "data": {
            "text/plain": [
              "array([0.        , 0.11111111, 0.22222222, 0.33333333, 0.44444444,\n",
              "       0.55555556, 0.66666667, 0.77777778, 0.88888889, 1.        ])"
            ]
          },
          "metadata": {
            "tags": []
          },
          "execution_count": 49
        }
      ]
    },
    {
      "cell_type": "code",
      "metadata": {
        "id": "Q5ymGhtoDob1",
        "colab_type": "code",
        "colab": {}
      },
      "source": [
        "diff_arr = np.zeros(10)\n",
        "interval_num = 9\n",
        "e = 10**(-10)\n",
        "Rhf = np.zeros((interval_num+1))\n",
        "Rhf[0] = 0\n",
        "for i in range(interval_num):\n",
        "  Rhf[i+1] = Rhf[i] + 1/(interval_num-1)\n",
        "  x = Rhf[i]\n",
        "  u = x - (np.exp((x - 1)/np.sqrt(e)) - np.exp(- (x+1)/np.sqrt(e))) / (1 - np.exp(- 2 / np.sqrt(e)))\n",
        "  diff = np.abs(u - uh[i])\n",
        "  diff_arr[i] = diff  "
      ],
      "execution_count": 0,
      "outputs": []
    },
    {
      "cell_type": "code",
      "metadata": {
        "id": "B5npLhnxItJQ",
        "colab_type": "code",
        "colab": {
          "base_uri": "https://localhost:8080/",
          "height": 51
        },
        "outputId": "ac57cc56-8a1d-4349-bec7-726a2bd19e33"
      },
      "source": [
        "diff_arr"
      ],
      "execution_count": 68,
      "outputs": [
        {
          "output_type": "execute_result",
          "data": {
            "text/plain": [
              "array([0.        , 0.01388889, 0.02777778, 0.04166667, 0.05555556,\n",
              "       0.06944444, 0.08333333, 0.09722222, 0.88888889, 0.        ])"
            ]
          },
          "metadata": {
            "tags": []
          },
          "execution_count": 68
        }
      ]
    }
  ]
}