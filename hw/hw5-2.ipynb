{
  "nbformat": 4,
  "nbformat_minor": 0,
  "metadata": {
    "colab": {
      "name": "“Untitled0.ipynb”的副本",
      "provenance": [],
      "collapsed_sections": [],
      "authorship_tag": "ABX9TyO2NepVyZ4h0w0Sa0bYS056",
      "include_colab_link": true
    },
    "kernelspec": {
      "name": "python3",
      "display_name": "Python 3"
    }
  },
  "cells": [
    {
      "cell_type": "markdown",
      "metadata": {
        "id": "view-in-github",
        "colab_type": "text"
      },
      "source": [
        "<a href=\"https://colab.research.google.com/github/Bertha-ding/20MA573-yuning-ding/blob/master/hw/hw5-2.ipynb\" target=\"_parent\"><img src=\"https://colab.research.google.com/assets/colab-badge.svg\" alt=\"Open In Colab\"/></a>"
      ]
    },
    {
      "cell_type": "markdown",
      "metadata": {
        "id": "SX3WGmPKBjn_",
        "colab_type": "text"
      },
      "source": [
        "Example 1 • Using Algo1, design estimator πˆ(N) and compute πˆ(10000)."
      ]
    },
    {
      "cell_type": "code",
      "metadata": {
        "id": "SOwmLvbtCIDv",
        "colab_type": "code",
        "colab": {}
      },
      "source": [
        "import matplotlib.pyplot as plt\n",
        "import numpy as np\n",
        "from scipy import stats\n",
        "from scipy.stats import norm"
      ],
      "execution_count": 0,
      "outputs": []
    },
    {
      "cell_type": "code",
      "metadata": {
        "id": "jX_plhchCOCZ",
        "colab_type": "code",
        "outputId": "5dbcb874-f8a8-462b-b615-eca32001a3fe",
        "colab": {
          "base_uri": "https://localhost:8080/",
          "height": 34
        }
      },
      "source": [
        "def mcpi(N):  # N is number of samples\n",
        "  n = 0       # n is number of hits\n",
        "  for i in range(N):\n",
        "    x = np.random.uniform(-1,1)\n",
        "    y = np.random.uniform(-1,1)\n",
        "    d = x**2 + y**2\n",
        "    if (d < 1):\n",
        "      n += 1\n",
        "  return 4*n/N\n",
        "\n",
        "mcpi(10000)"
      ],
      "execution_count": 0,
      "outputs": [
        {
          "output_type": "execute_result",
          "data": {
            "text/plain": [
              "3.13"
            ]
          },
          "metadata": {
            "tags": []
          },
          "execution_count": 3
        }
      ]
    },
    {
      "cell_type": "markdown",
      "metadata": {
        "id": "GPC0k5TPvWyC",
        "colab_type": "text"
      },
      "source": [
        "Example 4  \n",
        "Use β100 of Example 3 to estimate MSE(ˆπN ) by repeating πN of Example 1. One\n",
        "must write both pseudocode and python code."
      ]
    },
    {
      "cell_type": "code",
      "metadata": {
        "id": "BXpbCby0CSU_",
        "colab_type": "code",
        "outputId": "039c5d38-b718-4a94-b943-8d77431b2e89",
        "colab": {
          "base_uri": "https://localhost:8080/",
          "height": 34
        }
      },
      "source": [
        "def MSEpi(n,N):\n",
        "  pi_list = []\n",
        "  sum_pi_list = 0\n",
        "  pi_bar = 0\n",
        "  for i in range(n):\n",
        "    p = mcpi(N)\n",
        "    pi_list.append(p)\n",
        "    sum_pi_list += p\n",
        "  pi_bar = sum_pi_list/n\n",
        "  M = 0\n",
        "  for i in range(n):\n",
        "    M += (pi_list[i] - pi_bar)**2\n",
        "  return M/n\n",
        "\n",
        "MSEpi(100,10000)"
      ],
      "execution_count": 0,
      "outputs": [
        {
          "output_type": "execute_result",
          "data": {
            "text/plain": [
              "0.0002570633440000004"
            ]
          },
          "metadata": {
            "tags": []
          },
          "execution_count": 4
        }
      ]
    },
    {
      "cell_type": "markdown",
      "metadata": {
        "id": "2dA5FH_5-O_a",
        "colab_type": "text"
      },
      "source": [
        " Repeat above estimation of MSE(ˆ π N) for N = 2 i: i = 5, ...10 and plot log-log chart."
      ]
    },
    {
      "cell_type": "code",
      "metadata": {
        "id": "P6t3SFG14mzZ",
        "colab_type": "code",
        "outputId": "a9e2f30f-6949-456a-b3c0-678172a18273",
        "colab": {
          "base_uri": "https://localhost:8080/",
          "height": 299
        }
      },
      "source": [
        "x = []\n",
        "y = []\n",
        "for i in range(5,11):\n",
        "  N = 2**i\n",
        "  x.append(N)\n",
        "  y.append(MSEpi(100,N))\n",
        "\n",
        "x1=np.log2(x)\n",
        "y1=np.log2(y)\n",
        "plt.plot(x1,y1)\n",
        "print('the estimation of MSE(piN) is \\n', y)"
      ],
      "execution_count": 0,
      "outputs": [
        {
          "output_type": "stream",
          "text": [
            "the estimation of MSE(piN) is \n",
            " [0.08751718750000002, 0.03985117187500001, 0.023037109375000014, 0.009354760742187503, 0.004303436279296878, 0.002802984619140622]\n"
          ],
          "name": "stdout"
        },
        {
          "output_type": "display_data",
          "data": {
            "image/png": "[encoded data removed]",
            "text/plain": [
              "<Figure size 432x288 with 1 Axes>"
            ]
          },
          "metadata": {
            "tags": []
          }
        }
      ]
    },
    {
      "cell_type": "markdown",
      "metadata": {
        "id": "kR7kvbIh-FW5",
        "colab_type": "text"
      },
      "source": [
        "Example 2"
      ]
    },
    {
      "cell_type": "code",
      "metadata": {
        "id": "bh6Y80Fh-E_L",
        "colab_type": "code",
        "outputId": "13f871db-c63d-40df-aacb-e3bfc31f37a1",
        "colab": {
          "base_uri": "https://localhost:8080/",
          "height": 34
        }
      },
      "source": [
        "def MCINTEGRAL(N):\n",
        "  s = 0\n",
        "  for i in range(N):\n",
        "    Y = np.random.uniform(0,1)\n",
        "    if Y <= .01:\n",
        "      s += 100\n",
        "    else:\n",
        "      s += 1\n",
        "  return s/N\n",
        "\n",
        "MCINTEGRAL(10000000)"
      ],
      "execution_count": 0,
      "outputs": [
        {
          "output_type": "execute_result",
          "data": {
            "text/plain": [
              "1.9839907"
            ]
          },
          "metadata": {
            "tags": []
          },
          "execution_count": 6
        }
      ]
    },
    {
      "cell_type": "code",
      "metadata": {
        "id": "-APbumy17Rce",
        "colab_type": "code",
        "colab": {}
      },
      "source": [
        "def MSEINTEGRAL(n,N):\n",
        "  pi_list = []\n",
        "  sum_pi_list = 0\n",
        "  pi_bar = 0\n",
        "  for i in range(n):\n",
        "    p = MCINTEGRAL(N)\n",
        "    pi_list.append(p)\n",
        "    sum_pi_list += p\n",
        "  pi_bar = sum_pi_list/n\n",
        "  M = 0\n",
        "  for i in range(n):\n",
        "    M += (pi_list[i] - pi_bar)**2\n",
        "  return M/n"
      ],
      "execution_count": 0,
      "outputs": []
    },
    {
      "cell_type": "markdown",
      "metadata": {
        "id": "ehManHeLBoIJ",
        "colab_type": "text"
      },
      "source": [
        "Repeat above estimation of MSE(^αN) for N = 2 i: i = 5, ...10 and plot log-log chart."
      ]
    },
    {
      "cell_type": "code",
      "metadata": {
        "id": "T37xLWaUArHL",
        "colab_type": "code",
        "outputId": "9b719587-fbec-44d5-b54e-0412571985a3",
        "colab": {
          "base_uri": "https://localhost:8080/",
          "height": 299
        }
      },
      "source": [
        "x = []\n",
        "y = []\n",
        "for i in range(5,11):\n",
        "  N = 2**i\n",
        "  x.append(N)\n",
        "  y.append(MSEINTEGRAL(100,N))\n",
        "\n",
        "x1=np.log2(x)\n",
        "y1=np.log2(y)\n",
        "plt.plot(x1,y1)\n",
        "print('the estimation of MSE(alphaN) is \\n', y)"
      ],
      "execution_count": 0,
      "outputs": [
        {
          "output_type": "stream",
          "text": [
            "the estimation of MSE(alphaN) is \n",
            " [2.4301502929687464, 1.8434302734374974, 0.7998606628417962, 0.36125634155273445, 0.21363042411804198, 0.05882603988647461]\n"
          ],
          "name": "stdout"
        },
        {
          "output_type": "display_data",
          "data": {
            "image/png": "[encoded data removed]",
            "text/plain": [
              "<Figure size 432x288 with 1 Axes>"
            ]
          },
          "metadata": {
            "tags": []
          }
        }
      ]
    }
  ]
}