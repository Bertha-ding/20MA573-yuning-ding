{
  "nbformat": 4,
  "nbformat_minor": 0,
  "metadata": {
    "colab": {
      "name": "““Untitled0.ipynb”的副本”的副本",
      "provenance": [],
      "collapsed_sections": [],
      "authorship_tag": "ABX9TyP7l21Qfimy1G9VoxD8jW7k",
      "include_colab_link": true
    },
    "kernelspec": {
      "name": "python3",
      "display_name": "Python 3"
    }
  },
  "cells": [
    {
      "cell_type": "markdown",
      "metadata": {
        "id": "view-in-github",
        "colab_type": "text"
      },
      "source": [
        "<a href=\"https://colab.research.google.com/github/Bertha-ding/20MA573-yuning-ding/blob/master/hw/hw5-2.ipynb\" target=\"_parent\"><img src=\"https://colab.research.google.com/assets/colab-badge.svg\" alt=\"Open In Colab\"/></a>"
      ]
    },
    {
      "cell_type": "markdown",
      "metadata": {
        "id": "SX3WGmPKBjn_",
        "colab_type": "text"
      },
      "source": [
        "Example 1 • Using Algo1, design estimator πˆ(N) and compute πˆ(10000)."
      ]
    },
    {
      "cell_type": "code",
      "metadata": {
        "id": "SOwmLvbtCIDv",
        "colab_type": "code",
        "colab": {}
      },
      "source": [
        "import matplotlib.pyplot as plt\n",
        "import numpy as np\n",
        "from scipy import stats\n",
        "from scipy.stats import norm"
      ],
      "execution_count": 0,
      "outputs": []
    },
    {
      "cell_type": "code",
      "metadata": {
        "id": "jX_plhchCOCZ",
        "colab_type": "code",
        "outputId": "24581e08-5a1d-4cc2-80a4-2217ac79127d",
        "colab": {
          "base_uri": "https://localhost:8080/",
          "height": 34
        }
      },
      "source": [
        "def mcpi(N):  # N is number of samples\n",
        "  n = 0       # n is number of hits\n",
        "  for i in range(N):\n",
        "    x = np.random.uniform(-1,1)\n",
        "    y = np.random.uniform(-1,1)\n",
        "    d = x**2 + y**2\n",
        "    if (d < 1):\n",
        "      n += 1\n",
        "  return 4*n/N\n",
        "\n",
        "mcpi(10000)"
      ],
      "execution_count": 2,
      "outputs": [
        {
          "output_type": "execute_result",
          "data": {
            "text/plain": [
              "3.1512"
            ]
          },
          "metadata": {
            "tags": []
          },
          "execution_count": 2
        }
      ]
    },
    {
      "cell_type": "markdown",
      "metadata": {
        "id": "GPC0k5TPvWyC",
        "colab_type": "text"
      },
      "source": [
        "Example 4  \n",
        "Use β100 of Example 3 to estimate MSE(ˆπN ) by repeating πN of Example 1. One\n",
        "must write both pseudocode and python code."
      ]
    },
    {
      "cell_type": "code",
      "metadata": {
        "id": "BXpbCby0CSU_",
        "colab_type": "code",
        "outputId": "9da46f37-17b9-4f0e-d0c3-8de371d6f827",
        "colab": {
          "base_uri": "https://localhost:8080/",
          "height": 34
        }
      },
      "source": [
        "def MSEpi(n,N):\n",
        "  pi_list = []\n",
        "  sum_pi_list = 0\n",
        "  pi_bar = 0\n",
        "  for i in range(n):\n",
        "    p = mcpi(N)\n",
        "    pi_list.append(p)\n",
        "    sum_pi_list += p\n",
        "  pi_bar = sum_pi_list/n\n",
        "  M = 0\n",
        "  for i in range(n):\n",
        "    M += (pi_list[i] - pi_bar)**2\n",
        "  return M/n\n",
        "\n",
        "MSEpi(100,10000)"
      ],
      "execution_count": 3,
      "outputs": [
        {
          "output_type": "execute_result",
          "data": {
            "text/plain": [
              "0.00022685879999999924"
            ]
          },
          "metadata": {
            "tags": []
          },
          "execution_count": 3
        }
      ]
    },
    {
      "cell_type": "markdown",
      "metadata": {
        "id": "2dA5FH_5-O_a",
        "colab_type": "text"
      },
      "source": [
        " Repeat above estimation of MSE(ˆ π N) for N = 2 i: i = 5, ...10 and plot log-log chart."
      ]
    },
    {
      "cell_type": "code",
      "metadata": {
        "id": "P6t3SFG14mzZ",
        "colab_type": "code",
        "outputId": "53ffc364-41fd-4270-aa78-7a60095eef1c",
        "colab": {
          "base_uri": "https://localhost:8080/",
          "height": 322
        }
      },
      "source": [
        "x = []\n",
        "y = []\n",
        "for i in range(5,11):\n",
        "  N = 2**i\n",
        "  x.append(N)\n",
        "  y.append(MSEpi(100,N))\n",
        "\n",
        "plt.plot(np.log2(x),np.log2(y))\n",
        "print('the estimation of MSE(piN) is \\n', y)"
      ],
      "execution_count": 8,
      "outputs": [
        {
          "output_type": "stream",
          "text": [
            "the estimation of MSE(piN) is \n",
            " [0.10547499999999997, 0.031032812500000034, 0.02407851562499998, 0.011958886718749997, 0.005015447998046878, 0.002438249206542969]\n"
          ],
          "name": "stdout"
        },
        {
          "output_type": "display_data",
          "data": {
            "image/png": "[encoded data removed]",
            "text/plain": [
              "<Figure size 432x288 with 1 Axes>"
            ]
          },
          "metadata": {
            "tags": []
          }
        }
      ]
    },
    {
      "cell_type": "markdown",
      "metadata": {
        "id": "kR7kvbIh-FW5",
        "colab_type": "text"
      },
      "source": [
        "Example 2"
      ]
    },
    {
      "cell_type": "code",
      "metadata": {
        "id": "bh6Y80Fh-E_L",
        "colab_type": "code",
        "outputId": "fe62c4a6-26a4-4357-b3ac-9943997d894a",
        "colab": {
          "base_uri": "https://localhost:8080/",
          "height": 34
        }
      },
      "source": [
        "def MCINTEGRAL(N):\n",
        "  s = 0\n",
        "  for i in range(N):\n",
        "    Y = np.random.uniform(0,1)\n",
        "    if Y <= .01:\n",
        "      s += 100\n",
        "    else:\n",
        "      s += 1\n",
        "  return s/N\n",
        "\n",
        "MCINTEGRAL(10000000)"
      ],
      "execution_count": 5,
      "outputs": [
        {
          "output_type": "execute_result",
          "data": {
            "text/plain": [
              "1.9857529"
            ]
          },
          "metadata": {
            "tags": []
          },
          "execution_count": 5
        }
      ]
    },
    {
      "cell_type": "code",
      "metadata": {
        "id": "-APbumy17Rce",
        "colab_type": "code",
        "colab": {}
      },
      "source": [
        "def MSEINTEGRAL(n,N):\n",
        "  pi_list = []\n",
        "  sum_pi_list = 0\n",
        "  pi_bar = 0\n",
        "  for i in range(n):\n",
        "    p = MCINTEGRAL(N)\n",
        "    pi_list.append(p)\n",
        "    sum_pi_list += p\n",
        "  pi_bar = sum_pi_list/n\n",
        "  M = 0\n",
        "  for i in range(n):\n",
        "    M += (pi_list[i] - pi_bar)**2\n",
        "  return M/n"
      ],
      "execution_count": 0,
      "outputs": []
    },
    {
      "cell_type": "markdown",
      "metadata": {
        "id": "ehManHeLBoIJ",
        "colab_type": "text"
      },
      "source": [
        "Repeat above estimation of MSE(^αN) for N = 2 i: i = 5, ...10 and plot log-log chart."
      ]
    },
    {
      "cell_type": "code",
      "metadata": {
        "id": "T37xLWaUArHL",
        "colab_type": "code",
        "outputId": "a852a293-5929-49f1-a98c-ea0e4fcd97b2",
        "colab": {
          "base_uri": "https://localhost:8080/",
          "height": 301
        }
      },
      "source": [
        "x = []\n",
        "y = []\n",
        "for i in range(5,11):\n",
        "  N = 2**i\n",
        "  x.append(N)\n",
        "  y.append(MSEINTEGRAL(100,N))\n",
        "\n",
        "plt.plot(np.log2(x),np.log2(y))\n",
        "print('the estimation of MSE(alphaN) is \\n', y)"
      ],
      "execution_count": 9,
      "outputs": [
        {
          "output_type": "stream",
          "text": [
            "the estimation of MSE(alphaN) is \n",
            " [3.4638495117187564, 1.9551750732421869, 0.7141976257324218, 0.32536400756835926, 0.16437193450927745, 0.08979065551757813]\n"
          ],
          "name": "stdout"
        },
        {
          "output_type": "display_data",
          "data": {
            "image/png": "[encoded data removed]",
            "text/plain": [
              "<Figure size 432x288 with 1 Axes>"
            ]
          },
          "metadata": {
            "tags": []
          }
        }
      ]
    },
    {
      "cell_type": "code",
      "metadata": {
        "id": "soehqOFS7JHz",
        "colab_type": "code",
        "colab": {}
      },
      "source": [
        ""
      ],
      "execution_count": 0,
      "outputs": []
    }
  ]
}