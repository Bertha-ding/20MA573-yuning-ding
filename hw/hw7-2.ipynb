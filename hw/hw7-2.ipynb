{
  "nbformat": 4,
  "nbformat_minor": 0,
  "metadata": {
    "colab": {
      "name": "Untitled6.ipynb",
      "provenance": [],
      "authorship_tag": "ABX9TyMehZhOhrckqCJwMAn+yY1L",
      "include_colab_link": true
    },
    "kernelspec": {
      "name": "python3",
      "display_name": "Python 3"
    }
  },
  "cells": [
    {
      "cell_type": "markdown",
      "metadata": {
        "id": "view-in-github",
        "colab_type": "text"
      },
      "source": [
        "<a href=\"https://colab.research.google.com/github/Bertha-ding/20MA573-yuning-ding/blob/master/hw/hw7-2.ipynb\" target=\"_parent\"><img src=\"https://colab.research.google.com/assets/colab-badge.svg\" alt=\"Open In Colab\"/></a>"
      ]
    },
    {
      "cell_type": "markdown",
      "metadata": {
        "id": "jZo2EB9lRVd9",
        "colab_type": "text"
      },
      "source": [
        "Example1 Consider CEV:\n",
        "dSt = 0.03Stdt + σSγt dWt, S0 = 100."
      ]
    },
    {
      "cell_type": "code",
      "metadata": {
        "id": "cSjYevF-KTqB",
        "colab_type": "code",
        "colab": {
          "base_uri": "https://localhost:8080/",
          "height": 34
        },
        "outputId": "f1317365-9315-45bd-9c09-dcaa663b91b9"
      },
      "source": [
        "import numpy as np\n",
        "import scipy.stats as ss\n",
        "\n",
        "class VanillaOption:\n",
        "    def __init__(\n",
        "        self,\n",
        "        otype = 1, # 1: 'call'\n",
        "                  # -1: 'put'\n",
        "        strike = 110.,\n",
        "        maturity = 1.,\n",
        "        market_price = 10.,\n",
        "        N = 1000.,\n",
        "        n = 1000.,\n",
        "        r=0.0475):\n",
        "      self.otype = otype\n",
        "      self.strike = strike\n",
        "      self.maturity = maturity\n",
        "      self.market_price = market_price #this will be used for calibration\n",
        "      self.step = N\n",
        "      self.path = n\n",
        "      self.interest=r\n",
        "      self.strike = strike\n",
        "      self.maturity = maturity\n",
        "      \n",
        "\n",
        "    def payoff(self, s): #s: excercise price\n",
        "      otype = self.otype\n",
        "      k = self.strike\n",
        "      maturity = self.maturity\n",
        "      return max([0, (s - k)*otype])\n",
        "    \n",
        "    def EULER1D(self,S0):\n",
        "      r = self.interest\n",
        "      T = self.maturity\n",
        "      N = self.step\n",
        "      n = self.path\n",
        "      delta = T/N\n",
        "      Sdelta = []\n",
        "      Sdelta.append(S0)\n",
        "      t = np.linspace(0,T,N+1)\n",
        "      s = 0\n",
        "      \n",
        "      for i in range(N):\n",
        "        z = np.random.normal()\n",
        "        Sdelta.append(Sdelta[i] + 0.003*Sdelta[i] + 0.2*Sdelta[i]*np.sqrt(delta)*z)\n",
        "        p = payoff(self, Sdelta[i])\n",
        "        s += p\n",
        "      return np.exp(-r*T)*s/n\n",
        "VanillaOption(strike=97)"
      ],
      "execution_count": 20,
      "outputs": [
        {
          "output_type": "execute_result",
          "data": {
            "text/plain": [
              "<__main__.VanillaOption at 0x7f17866a4da0>"
            ]
          },
          "metadata": {
            "tags": []
          },
          "execution_count": 20
        }
      ]
    },
    {
      "cell_type": "code",
      "metadata": {
        "id": "1wSkG4EHLETz",
        "colab_type": "code",
        "colab": {
          "base_uri": "https://localhost:8080/",
          "height": 34
        },
        "outputId": "d7ca89c4-9b59-427e-d9f6-2e6029174fbd"
      },
      "source": [
        "class Gbm:\n",
        "    def __init__(self,\n",
        "                 init_state = 100.,\n",
        "                 drift_ratio = .0475,\n",
        "                 vol_ratio = .2\n",
        "                ):\n",
        "        self.init_state = init_state\n",
        "        self.drift_ratio = drift_ratio\n",
        "        self.vol_ratio = vol_ratio\n",
        "\n",
        "def bsm_price(self, vanilla_option):\n",
        "    s0 = self.init_state\n",
        "    sigma = self.vol_ratio\n",
        "    r = self.drift_ratio\n",
        "    \n",
        "    otype = vanilla_option.otype\n",
        "    k = vanilla_option.strike\n",
        "    maturity = vanilla_option.maturity\n",
        "    \n",
        "    d1 = (np.log(s0 / k) + (r + 0.5 * sigma ** 2) \n",
        "          * maturity) / (sigma * np.sqrt(maturity))\n",
        "    d2 = d1 - sigma * np.sqrt(maturity)\n",
        "    \n",
        "    return (otype * s0 * ss.norm.cdf(otype * d1) #line break needs parenthesis\n",
        "            - otype * np.exp(-r * maturity) * k * ss.norm.cdf(otype * d2))\n",
        "\n",
        "Gbm.bsm_price = bsm_price    \n",
        "gbm1 = Gbm()\n",
        "option1 = VanillaOption()\n",
        "print('>>>>>>>>>>call value is ' + str(gbm1.bsm_price(option1)))"
      ],
      "execution_count": 10,
      "outputs": [
        {
          "output_type": "stream",
          "text": [
            ">>>>>>>>>>call value is 11.989673615890688\n"
          ],
          "name": "stdout"
        }
      ]
    },
    {
      "cell_type": "markdown",
      "metadata": {
        "id": "ZxL6dAQ6RjKu",
        "colab_type": "text"
      },
      "source": [
        "Download option data from here and calibrate volatility and elasticity constant from 5 month\n",
        "call options."
      ]
    },
    {
      "cell_type": "code",
      "metadata": {
        "id": "NwkGrVBFOFSm",
        "colab_type": "code",
        "colab": {
          "base_uri": "https://localhost:8080/",
          "height": 204
        },
        "outputId": "75a6f12c-6b96-4aa5-df63-e11fa60f1e05"
      },
      "source": [
        "%cd~\n",
        "\n",
        "!git clone https://github.com/Bertha-ding/20MA573-yuning-ding.git \n",
        "pass\n",
        "%cd 20MA573-yuning-ding/src/\n",
        "%ls"
      ],
      "execution_count": 21,
      "outputs": [
        {
          "output_type": "stream",
          "text": [
            "/root\n",
            "Cloning into '20MA573-yuning-ding'...\n",
            "remote: Enumerating objects: 53, done.\u001b[K\n",
            "remote: Counting objects: 100% (53/53), done.\u001b[K\n",
            "remote: Compressing objects: 100% (53/53), done.\u001b[K\n",
            "remote: Total 222 (delta 27), reused 0 (delta 0), pack-reused 169\u001b[K\n",
            "Receiving objects: 100% (222/222), 10.14 MiB | 43.10 MiB/s, done.\n",
            "Resolving deltas: 100% (116/116), done.\n",
            "/root/20MA573-yuning-ding/src\n",
            "20optiondata2.dat  hw1_random_walk.ipynb  prj02.ipynb  Untitled0.ipynb\n",
            "bsm.py             prj01.ipynb            prj03.ipynb\n"
          ],
          "name": "stdout"
        }
      ]
    },
    {
      "cell_type": "code",
      "metadata": {
        "id": "XNLiZ0sLR9qG",
        "colab_type": "code",
        "colab": {
          "base_uri": "https://localhost:8080/",
          "height": 170
        },
        "outputId": "affc88f3-700d-4178-ccd0-cdecf3b86df3"
      },
      "source": [
        "np_option_data1 = np.loadtxt('20optiondata2.dat', comments='#', delimiter=',')\n",
        "\n",
        "print('>>>otype,>>>>>>> maturity, >>strike, >>>>>>option_price')\n",
        "print(np_option_data1)"
      ],
      "execution_count": 22,
      "outputs": [
        {
          "output_type": "stream",
          "text": [
            ">>>otype,>>>>>>> maturity, >>strike, >>>>>>option_price\n",
            "[[  1.           0.16666667  97.           5.32705461]\n",
            " [  1.           0.16666667  99.           3.86224255]\n",
            " [  1.           0.16666667 101.           2.7204371 ]\n",
            " [  1.           0.16666667 103.           2.1202793 ]\n",
            " [  1.           0.41666667  97.           7.23756307]\n",
            " [  1.           0.41666667  99.           5.95053461]\n",
            " [  1.           0.41666667 101.           5.2640122 ]\n",
            " [  1.           0.41666667 103.           4.97493422]]\n"
          ],
          "name": "stdout"
        }
      ]
    },
    {
      "cell_type": "code",
      "metadata": {
        "id": "7gnV8dIPSBzS",
        "colab_type": "code",
        "colab": {}
      },
      "source": [
        "import scipy.optimize as so\n",
        "from bsm import *\n",
        "\n",
        "gbm1 = Gbm(\n",
        "    init_state = 100., \n",
        "    drift_ratio = .03,\n",
        "    vol_ratio = .2)\n",
        "\n",
        "'''================\n",
        "define an error function\n",
        "===================='''\n",
        "def error_function(vol, gbm, option):\n",
        "  gbm.vol_ratio = vol\n",
        "  err = 0\n",
        "  for i in range(len(option)):\n",
        "    err = (err + abs((option_list[i]).market_price - gbm.bsm_price(option_list[i]))**2)  \n",
        "  return err\n",
        "\n",
        "  \n",
        "'''==========\n",
        "define a method to seek for an calibrate volatility\n",
        "============'''\n",
        "\n",
        "def implied_volatility(gbm, option_list):\n",
        "  init_vol = .1 #initial guess\n",
        "  return so.fmin(error_function, init_vol, args = (gbm, option_list), disp = 0)[0]\n"
      ],
      "execution_count": 0,
      "outputs": []
    },
    {
      "cell_type": "code",
      "metadata": {
        "id": "HOojP4jwScLS",
        "colab_type": "code",
        "colab": {
          "base_uri": "https://localhost:8080/",
          "height": 34
        },
        "outputId": "a84c73f3-c046-4aab-9d9b-9b2b92222f50"
      },
      "source": [
        "filter1 = np_option_data1[np_option_data1[:,1] == 5/12]\n",
        "num_row = filter1.shape[0]\n",
        "option_list = []\n",
        "\n",
        "for i in range(num_row):\n",
        "  option1 = VanillaOption(\n",
        "      otype = filter1[i,0],\n",
        "      strike = filter1[i,2],\n",
        "      maturity = filter1[i,1],\n",
        "      market_price = filter1[i,3]\n",
        "  )   \n",
        "  option_list.append(option1)\n",
        "  calibrated_volatility = implied_volatility(gbm1, option_list)\n",
        "print('The calibrated volatility for 5-mon is' ,calibrated_volatility)"
      ],
      "execution_count": 43,
      "outputs": [
        {
          "output_type": "stream",
          "text": [
            "The calibrated volatility for 5-mon is 0.20109375000000035\n"
          ],
          "name": "stdout"
        }
      ]
    },
    {
      "cell_type": "code",
      "metadata": {
        "id": "1gdLh9izSmph",
        "colab_type": "code",
        "colab": {}
      },
      "source": [
        ""
      ],
      "execution_count": 0,
      "outputs": []
    }
  ]
}