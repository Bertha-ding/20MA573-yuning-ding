{
  "nbformat": 4,
  "nbformat_minor": 0,
  "metadata": {
    "colab": {
      "name": "“bsm_price_change.ipynb”的副本",
      "provenance": [],
      "include_colab_link": true
    },
    "kernelspec": {
      "name": "python3",
      "display_name": "Python 3"
    }
  },
  "cells": [
    {
      "cell_type": "markdown",
      "metadata": {
        "id": "view-in-github",
        "colab_type": "text"
      },
      "source": [
        "<a href=\"https://colab.research.google.com/github/Bertha-ding/20MA573-yuning-ding/blob/master/hw/hw3-2.ipynb\" target=\"_parent\"><img src=\"https://colab.research.google.com/assets/colab-badge.svg\" alt=\"Open In Colab\"/></a>"
      ]
    },
    {
      "cell_type": "markdown",
      "metadata": {
        "id": "R3uJxJbwtZjp",
        "colab_type": "text"
      },
      "source": [
        "Consider an european option with\n",
        "- call type\n",
        "- strike = 110\n",
        "- maturity = T\n",
        "underlying a Gbm stock with\n",
        "- initial: 100\n",
        "- interest rate: 4.75%\n",
        "- vol ratio: $\\sigma$\n",
        "\n",
        "We denote this bsm price by $f(\\sigma, T)$.\n",
        "\n",
        "- Let $\\sigma = 20\\%$ fixed. plot $T \\mapsto f(0.2, T)$ when $T$ is ranging over $(0.5, 2)$.\n",
        "\n",
        "- Let $T = 1$ fixed. plot $\\sigma \\mapsto f(\\sigma, 1)$ when $\\sigma$ is ranging over $(.05, 0.5)$\n",
        "\n",
        "- Describe your observations. Do you think the same behavior is also true for put?\n",
        "\n",
        "- Could you prove your observations?"
      ]
    },
    {
      "cell_type": "markdown",
      "metadata": {
        "id": "9a23ZqJryejf",
        "colab_type": "text"
      },
      "source": [
        "Let  𝜎=20%  fixed. plot  𝑇↦𝑓(0.2,𝑇)  when  𝑇  is ranging over  (0.5,2) ."
      ]
    },
    {
      "cell_type": "code",
      "metadata": {
        "id": "0fTzWLcUtaOK",
        "colab_type": "code",
        "colab": {}
      },
      "source": [
        "class VanillaOption:\n",
        "    def __init__(\n",
        "        self,\n",
        "        otype = 1, # 1: 'call'\n",
        "                  # -1: 'put'\n",
        "        strike = 110.,\n",
        "        market_price = 10.):\n",
        "      self.otype = otype\n",
        "      self.strike = strike\n",
        "      self.market_price = market_price #this will be used for calibration\n",
        "      \n",
        "        \n",
        "    def payoff(self, s): #s: excercise price\n",
        "      otype = self.otype\n",
        "      k = self.strike\n",
        "      return max([0, (s - k)*otype])\n",
        "\n",
        "\n",
        "class VanillaOption:\n",
        "    def __init__(\n",
        "        self,\n",
        "        otype = 1, # 1: 'call'\n",
        "                  # -1: 'put'\n",
        "        strike = 110.,\n",
        "        market_price = 10.):\n",
        "      self.otype = otype\n",
        "      self.strike = strike\n",
        "      self.market_price = market_price #this will be used for calibration\n",
        "      \n",
        "        \n",
        "    def payoff(self, s): #s: excercise price\n",
        "      otype = self.otype\n",
        "      k = self.strike\n",
        "      return max([0, (s - k)*otype])\n",
        "\n",
        "\n",
        "class Gbm:\n",
        "    def __init__(self,\n",
        "                 init_state = 100.,\n",
        "                 drift_ratio = .0475,\n",
        "                 vol_ratio = .2,\n",
        "                 maturity = 1\n",
        "                ):\n",
        "        self.init_state = init_state\n",
        "        self.drift_ratio = drift_ratio\n",
        "        self.vol_ratio = vol_ratio\n",
        "        self.maturity = maturity"
      ],
      "execution_count": 0,
      "outputs": []
    },
    {
      "cell_type": "code",
      "metadata": {
        "id": "J86TCf-MzPxG",
        "colab_type": "code",
        "colab": {}
      },
      "source": [
        "import numpy as np\n",
        "import matplotlib.pyplot as plt\n",
        "import scipy.stats as ss\n",
        "\n",
        "def bsm_price(self, vanilla_option):\n",
        "    s0 = self.init_state\n",
        "    sigma = self.vol_ratio\n",
        "    r = self.drift_ratio\n",
        "    \n",
        "    \n",
        "    otype = vanilla_option.otype\n",
        "    k = vanilla_option.strike\n",
        "    \n",
        "    d1 = (np.log(s0 / k) + (r + 0.5 * sigma ** 2) \n",
        "          * maturity) / (sigma * np.sqrt(maturity))\n",
        "    d2 = d1 - sigma * np.sqrt(maturity)\n",
        "    \n",
        "    return (otype * s0 * ss.norm.cdf(otype * d1) #line break needs parenthesis\n",
        "            - otype * np.exp(-r * maturity) * k * ss.norm.cdf(otype * d2))\n",
        "\n",
        "Gbm.bsm_price = bsm_price"
      ],
      "execution_count": 0,
      "outputs": []
    },
    {
      "cell_type": "code",
      "metadata": {
        "id": "fv74wtCHzqM3",
        "colab_type": "code",
        "colab": {
          "base_uri": "https://localhost:8080/",
          "height": 279
        },
        "outputId": "e5b77dff-b5e2-4365-bdfe-6efb355a4b5d"
      },
      "source": [
        "import numpy as np\n",
        "import matplotlib.pyplot as plt\n",
        "\n",
        "gbm1 = Gbm()\n",
        "option1 = VanillaOption(otype=1)\n",
        "maturity_list = []\n",
        "option_price_list = []\n",
        "\n",
        "for i in range(16):\n",
        "  maturity = i*0.1+0.5\n",
        "  gbm1.maturity = maturity\n",
        "  maturity_list.append(maturity)\n",
        "  option_price = gbm1.bsm_price(option1)\n",
        "  option_price_list.append(option_price)\n",
        "\n",
        "plt.plot(maturity_list, option_price_list)\n",
        "\n",
        "#decorations\n",
        "plt.xlabel('maturity')\n",
        "plt.ylabel('option_price')\n",
        "plt.show()"
      ],
      "execution_count": 9,
      "outputs": [
        {
          "output_type": "display_data",
          "data": {
            "image/png": "[encoded data removed]",
            "text/plain": [
              "<Figure size 432x288 with 1 Axes>"
            ]
          },
          "metadata": {
            "tags": []
          }
        }
      ]
    },
    {
      "cell_type": "markdown",
      "metadata": {
        "id": "jAc7MNq2FfN0",
        "colab_type": "text"
      },
      "source": [
        "Let  𝑇=1  fixed. plot  𝜎↦𝑓(𝜎,1)  when  𝜎  is ranging over  (.05,0.5)"
      ]
    },
    {
      "cell_type": "code",
      "metadata": {
        "id": "erCGF4KW3SHQ",
        "colab_type": "code",
        "colab": {
          "base_uri": "https://localhost:8080/",
          "height": 279
        },
        "outputId": "a53a7168-46d2-483f-e8d8-ce437ed167b7"
      },
      "source": [
        "\n",
        "gbm2 = Gbm()\n",
        "option2 = VanillaOption(otype=1)\n",
        "sigma_list = []\n",
        "option_price_list = []\n",
        "\n",
        "for i in range(46):\n",
        "  sigma = i*0.01+0.05\n",
        "  gbm2.vol_ratio = sigma\n",
        "  sigma_list.append(sigma)\n",
        "  option_price = gbm2.bsm_price(option1)\n",
        "  option_price_list.append(option_price)\n",
        "\n",
        "plt.plot(sigma_list, option_price_list)\n",
        "\n",
        "#decorations\n",
        "plt.xlabel('sigma')\n",
        "plt.ylabel('option_price')\n",
        "plt.show()"
      ],
      "execution_count": 13,
      "outputs": [
        {
          "output_type": "display_data",
          "data": {
            "image/png": "[encoded data removed]",
            "text/plain": [
              "<Figure size 432x288 with 1 Axes>"
            ]
          },
          "metadata": {
            "tags": []
          }
        }
      ]
    },
    {
      "cell_type": "markdown",
      "metadata": {
        "id": "96WL0WgoIyQ9",
        "colab_type": "text"
      },
      "source": [
        "Through our ovservation, we can find that as sigma and maturity increases, the option price increases. The same behavior is also true for put option."
      ]
    },
    {
      "cell_type": "code",
      "metadata": {
        "id": "iF0NzHipHVid",
        "colab_type": "code",
        "colab": {
          "base_uri": "https://localhost:8080/",
          "height": 279
        },
        "outputId": "784e3c09-d0ba-4966-f68e-2b6a4b229507"
      },
      "source": [
        "gbm3 = Gbm()\n",
        "option3 = VanillaOption(otype=-1)\n",
        "maturity_list = []\n",
        "option_price_list = []\n",
        "\n",
        "for i in range(16):\n",
        "  maturity = i*0.1+0.5\n",
        "  gbm3.maturity = maturity\n",
        "  maturity_list.append(maturity)\n",
        "  option_price = gbm3.bsm_price(option3)\n",
        "  option_price_list.append(option_price)\n",
        "\n",
        "plt.plot(maturity_list, option_price_list)\n",
        "\n",
        "#decorations\n",
        "plt.xlabel('maturity')\n",
        "plt.ylabel('option_price')\n",
        "plt.show()"
      ],
      "execution_count": 16,
      "outputs": [
        {
          "output_type": "display_data",
          "data": {
            "image/png": "[encoded data removed]",
            "text/plain": [
              "<Figure size 432x288 with 1 Axes>"
            ]
          },
          "metadata": {
            "tags": []
          }
        }
      ]
    },
    {
      "cell_type": "code",
      "metadata": {
        "id": "Zdcx1Q3PKLG4",
        "colab_type": "code",
        "colab": {
          "base_uri": "https://localhost:8080/",
          "height": 279
        },
        "outputId": "f449d1a9-9287-45c5-e858-407aa75a8d09"
      },
      "source": [
        "gbm4 = Gbm()\n",
        "option4 = VanillaOption(otype=-1)\n",
        "sigma_list = []\n",
        "option_price_list = []\n",
        "\n",
        "for i in range(46):\n",
        "  sigma = i*0.01+0.05\n",
        "  gbm4.vol_ratio = sigma\n",
        "  sigma_list.append(sigma)\n",
        "  option_price = gbm4.bsm_price(option4)\n",
        "  option_price_list.append(option_price)\n",
        "\n",
        "plt.plot(sigma_list, option_price_list)\n",
        "\n",
        "#decorations\n",
        "plt.xlabel('sigma')\n",
        "plt.ylabel('option_price')\n",
        "plt.show()"
      ],
      "execution_count": 18,
      "outputs": [
        {
          "output_type": "display_data",
          "data": {
            "image/png": "[encoded data removed]",
            "text/plain": [
              "<Figure size 432x288 with 1 Axes>"
            ]
          },
          "metadata": {
            "tags": []
          }
        }
      ]
    },
    {
      "cell_type": "markdown",
      "metadata": {
        "id": "UdaowBW5MuQe",
        "colab_type": "text"
      },
      "source": [
        "**Proof:**\n",
        "\n",
        "For the change of option price as volatility $\\sigma$ changes,  we have the equation of $\\frac{\\partial C_t}{\\partial \\sigma}$, \n",
        "\n",
        "$$\\frac{\\partial C_0}{\\partial \\sigma} = S_0\\frac{\\partial \\mathcal{N}(d_{1})}{\\partial \\sigma} -K e^{-rT} \\frac{\\partial \\mathcal{N}(d_{2})}{\\partial \\sigma}= S_0\\frac{\\partial \\mathcal{N}(d_{1})}{\\partial d_{1}} \\frac{\\partial d_{1}}{\\partial \\sigma} -K e^{-rT} \\frac{\\partial \\mathcal{N}(d_{2})}{\\partial d_{2}} \\frac{\\partial d_{2}}{\\partial \\sigma}.$$\n",
        "\n",
        "\n",
        "\n",
        "   $\\frac{\\partial \\mathcal{N}(d_{1})}{\\partial d_{1}} = \\frac{1}{\\sqrt{2 \\pi}} e^{- \\frac{d_1^2}{2}}$, $\\frac{\\partial \\mathcal{N}(d_{2})}{\\partial d_{2}} = \\frac{1}{\\sqrt{2 \\pi}} e^{- \\frac{d_2^2}{2}}$, and $d_2 = d_{1} - \\sigma \\sqrt{T-t}$,\n",
        "\n",
        "\n",
        "therefore,\n",
        "\n",
        "$$\\frac{\\partial C_t}{\\partial \\sigma} = S_{t} \\frac{\\partial \\mathcal{N}(d_{1})}{\\partial d_{1}} \\frac{\\partial d_{1}}{\\partial \\sigma} -  K e^{-r(T-t)} \\frac{\\partial \\mathcal{N}(d_{1})}{\\partial d_{1}} \\frac{S_{t}}{K} e^{r(T-t)} (\\frac{\\partial d_{1}}{\\partial \\sigma} - \\sqrt{T-t}),$$\n",
        "\n",
        "\n",
        "from put-call parity, we have\n",
        "\n",
        "$$C_t + K e^{-r(T-t)} = P_t + S_{t},$$\n",
        "\n",
        "$$\\frac{\\partial C_t}{\\partial \\sigma} = \\frac{\\partial P_t}{\\partial \\sigma} = S_{t} \\sqrt{T-t} \\frac{\\partial \\mathcal{N}(d_{1})}{\\partial d_{1}} \\geq 0.$$\n",
        "\n",
        "Such that when volitility is increasing, the option price is also increasing."
      ]
    },
    {
      "cell_type": "code",
      "metadata": {
        "id": "cjFUBwN2Sk7i",
        "colab_type": "code",
        "colab": {}
      },
      "source": [
        ""
      ],
      "execution_count": 0,
      "outputs": []
    }
  ]
}