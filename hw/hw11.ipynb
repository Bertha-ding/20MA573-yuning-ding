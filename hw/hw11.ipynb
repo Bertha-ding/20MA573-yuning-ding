{
  "nbformat": 4,
  "nbformat_minor": 0,
  "metadata": {
    "colab": {
      "name": "Untitled10.ipynb",
      "provenance": [],
      "authorship_tag": "ABX9TyMJaEA+h5UCyfdgjDEFh+vO",
      "include_colab_link": true
    },
    "kernelspec": {
      "name": "python3",
      "display_name": "Python 3"
    }
  },
  "cells": [
    {
      "cell_type": "markdown",
      "metadata": {
        "id": "view-in-github",
        "colab_type": "text"
      },
      "source": [
        "<a href=\"https://colab.research.google.com/github/Bertha-ding/20MA573-yuning-ding/blob/master/hw/hw11.ipynb\" target=\"_parent\"><img src=\"https://colab.research.google.com/assets/colab-badge.svg\" alt=\"Open In Colab\"/></a>"
      ]
    },
    {
      "cell_type": "code",
      "metadata": {
        "id": "xJ82SnnuGgKf",
        "colab_type": "code",
        "colab": {
          "base_uri": "https://localhost:8080/",
          "height": 34
        },
        "outputId": "7f282ca8-83dc-40b9-c99e-0f4f7f55307a"
      },
      "source": [
        "import scipy.stats as ss\n",
        "import numpy as np\n",
        "c = ss.norm(0,1).cdf(-2)\n",
        "print(\"the exact price is\", c)"
      ],
      "execution_count": 46,
      "outputs": [
        {
          "output_type": "stream",
          "text": [
            "the exact price is 0.022750131948179195\n"
          ],
          "name": "stdout"
        }
      ]
    },
    {
      "cell_type": "code",
      "metadata": {
        "id": "eDW8vMYQGvaW",
        "colab_type": "code",
        "colab": {}
      },
      "source": [
        "def OMC(N,alpha):\n",
        "  s=0\n",
        "  for i in range(N):\n",
        "    if np.random.normal(0,1)<-2:\n",
        "      s+=1\n",
        "  return s/N"
      ],
      "execution_count": 0,
      "outputs": []
    },
    {
      "cell_type": "code",
      "metadata": {
        "id": "AwjmdBi2Hand",
        "colab_type": "code",
        "colab": {
          "base_uri": "https://localhost:8080/",
          "height": 34
        },
        "outputId": "758e5bee-0bd0-4e8e-92c4-9c1548f5282a"
      },
      "source": [
        "OMC(1000,2)"
      ],
      "execution_count": 7,
      "outputs": [
        {
          "output_type": "execute_result",
          "data": {
            "text/plain": [
              "0.028"
            ]
          },
          "metadata": {
            "tags": []
          },
          "execution_count": 7
        }
      ]
    },
    {
      "cell_type": "code",
      "metadata": {
        "id": "bky1XeQ3HeJT",
        "colab_type": "code",
        "colab": {}
      },
      "source": [
        "def IS(N,alpha):\n",
        "  s=0\n",
        "  for i in range(N):\n",
        "    A= np.random.normal(-alpha,1)\n",
        "    if A<-2:\n",
        "      s+= np.exp(alpha**2/2 + alpha*A)\n",
        "  return s/N"
      ],
      "execution_count": 0,
      "outputs": []
    },
    {
      "cell_type": "code",
      "metadata": {
        "id": "IEHBTZvTIKJV",
        "colab_type": "code",
        "colab": {
          "base_uri": "https://localhost:8080/",
          "height": 34
        },
        "outputId": "55527323-1437-4ae6-90f6-f5df2887aaff"
      },
      "source": [
        "IS(1000,2)"
      ],
      "execution_count": 12,
      "outputs": [
        {
          "output_type": "execute_result",
          "data": {
            "text/plain": [
              "0.022493176379587303"
            ]
          },
          "metadata": {
            "tags": []
          },
          "execution_count": 12
        }
      ]
    },
    {
      "cell_type": "code",
      "metadata": {
        "id": "VfknzLpyPqIn",
        "colab_type": "code",
        "colab": {
          "base_uri": "https://localhost:8080/",
          "height": 51
        },
        "outputId": "eb56b93f-5490-4594-e891-0e8fc5991db7"
      },
      "source": [
        "var_IS=0\n",
        "var_omc=0\n",
        "for i in range(10000):\n",
        "  var_omc+= (c - OMC(1000,2))**2\n",
        "  var_IS += (c - IS(1000,2))**2\n",
        "  mse_omc = var_omc/10000\n",
        "  mse_IS = var_IS/10000\n",
        "print(mse_omc)\n",
        "print(mse_IS)"
      ],
      "execution_count": 43,
      "outputs": [
        {
          "output_type": "stream",
          "text": [
            "2.2159788036515605e-05\n",
            "1.235122055437548e-06\n"
          ],
          "name": "stdout"
        }
      ]
    },
    {
      "cell_type": "code",
      "metadata": {
        "id": "L2G5B4BKILtS",
        "colab_type": "code",
        "colab": {}
      },
      "source": [
        "def MSE_OMC(alpha_hat,N):\n",
        "  for i in range (N):\n",
        "    x=ss.norm(0,1).cdf(-2)\n",
        "  MSE_OMC = (1/N)*(x-x**2)\n",
        "  return MSE_OMC"
      ],
      "execution_count": 0,
      "outputs": []
    },
    {
      "cell_type": "code",
      "metadata": {
        "id": "_CGmtQvbJm8C",
        "colab_type": "code",
        "colab": {
          "base_uri": "https://localhost:8080/",
          "height": 34
        },
        "outputId": "173e33fd-8914-4028-f92c-d24957132302"
      },
      "source": [
        "MSE_OMC(3,10000)"
      ],
      "execution_count": 28,
      "outputs": [
        {
          "output_type": "execute_result",
          "data": {
            "text/plain": [
              "2.2232563444519632e-06"
            ]
          },
          "metadata": {
            "tags": []
          },
          "execution_count": 28
        }
      ]
    },
    {
      "cell_type": "markdown",
      "metadata": {
        "id": "1CfNzy-UK-iS",
        "colab_type": "text"
      },
      "source": [
        "\\begin{equation}\n",
        "\\begin{aligned}\n",
        "MSE(\\hat{v}) &= var(\\hat{v}) \\\\\n",
        "&= \\frac{1}{n} var(I(Y_{i} < - 2) e^{\\frac{1}{2} \\alpha^{2} + \\alpha Y_{i}}) \\\\\n",
        "&= \\frac{1}{n} \\{ \\mathbb{E} [I(Y_{i} < - 2) e^{ \\alpha^{2} + 2 \\alpha Y_{i}}] - \\Phi^{2}(-2) \\}. \\\\\n",
        "\\end{aligned}\n",
        "\\end{equation}\n",
        "\n",
        "\\begin{equation}\n",
        "\\begin{aligned}\n",
        "\\mathbb{E} [I(Y_{i} < - 2) e^{ \\alpha^{2} + 2 \\alpha Y_{i}}] &= \\int_{- \\infty}^{-2} e^{\\alpha^{2}+ 2 \\alpha y}  \\frac{1}{\\sqrt{2 \\pi}} e^{- \\frac{(y + \\alpha)^{2}}{2}} \\, d y \\\\\n",
        "&= \\int_{- \\infty}^{-2} \\frac{1}{\\sqrt{2 \\pi}} e^{- \\frac{y^{2} - \\alpha y - \\alpha^{2}}{2}} \\, d y \\\\\n",
        "&= \\int_{- \\infty}^{-2} \\frac{1}{\\sqrt{2 \\pi}} e^{- \\frac{(y - \\alpha)^{2}}{2}}  e^{\\alpha^{2}} \\, d y  \\\\\n",
        "&= e^{\\alpha^{2}} \\Phi(-2-\\alpha),\n",
        "\\end{aligned}\n",
        "\\end{equation}\n",
        "\n",
        "$$MSE(\\hat{v}) = \\frac{1}{n} \\{e^{\\alpha^{2}} \\Phi(-2-\\alpha) - \\Phi^{2}(-2)\\}.$$\n"
      ]
    },
    {
      "cell_type": "code",
      "metadata": {
        "id": "IQBMgATMJuVB",
        "colab_type": "code",
        "colab": {}
      },
      "source": [
        "def MSE_IS(alpha_hat,N):\n",
        "  for i in range (N):\n",
        "    x=ss.norm(0,1).cdf(-2)\n",
        "    y=ss.norm(0,1).cdf(-2-alpha_hat)\n",
        "    mse_IS = (1/N)*np.exp(alpha_hat**2)*y-(x**2)\n",
        "  return mse_IS"
      ],
      "execution_count": 0,
      "outputs": []
    },
    {
      "cell_type": "code",
      "metadata": {
        "id": "iB5DTZn4L5Ch",
        "colab_type": "code",
        "colab": {
          "base_uri": "https://localhost:8080/",
          "height": 34
        },
        "outputId": "f173211c-6ed4-4060-896f-095f4d215dea"
      },
      "source": [
        "MSE_IS(2,10000)"
      ],
      "execution_count": 36,
      "outputs": [
        {
          "output_type": "execute_result",
          "data": {
            "text/plain": [
              "-0.0005173955845382296"
            ]
          },
          "metadata": {
            "tags": []
          },
          "execution_count": 36
        }
      ]
    },
    {
      "cell_type": "code",
      "metadata": {
        "id": "kvTQ9kjSP3Be",
        "colab_type": "code",
        "colab": {}
      },
      "source": [
        "diff = MSE_OMC(3,10000)-MSE_IS(3,10000)"
      ],
      "execution_count": 0,
      "outputs": []
    },
    {
      "cell_type": "code",
      "metadata": {
        "id": "M0hxGckpQicY",
        "colab_type": "code",
        "colab": {
          "base_uri": "https://localhost:8080/",
          "height": 34
        },
        "outputId": "888d1c98-477b-4c99-fc51-894fa6902114"
      },
      "source": [
        "diff"
      ],
      "execution_count": 45,
      "outputs": [
        {
          "output_type": "execute_result",
          "data": {
            "text/plain": [
              "0.0005195594838295247"
            ]
          },
          "metadata": {
            "tags": []
          },
          "execution_count": 45
        }
      ]
    },
    {
      "cell_type": "markdown",
      "metadata": {
        "id": "3lfB_IoZM-sk",
        "colab_type": "text"
      },
      "source": [
        "as we can see, as n is big enough, the mse of omc and IS is converge to 0, and under same alpha, the mse of IS is less than mse of omc."
      ]
    },
    {
      "cell_type": "code",
      "metadata": {
        "id": "sD61_y5zOx4L",
        "colab_type": "code",
        "colab": {}
      },
      "source": [
        ""
      ],
      "execution_count": 0,
      "outputs": []
    }
  ]
}