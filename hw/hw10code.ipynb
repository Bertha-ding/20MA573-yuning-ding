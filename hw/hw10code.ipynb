{
  "nbformat": 4,
  "nbformat_minor": 0,
  "metadata": {
    "colab": {
      "name": "Untitled9.ipynb",
      "provenance": [],
      "authorship_tag": "ABX9TyNQWAPL0XMLVMELIRH8W4di",
      "include_colab_link": true
    },
    "kernelspec": {
      "name": "python3",
      "display_name": "Python 3"
    }
  },
  "cells": [
    {
      "cell_type": "markdown",
      "metadata": {
        "id": "view-in-github",
        "colab_type": "text"
      },
      "source": [
        "<a href=\"https://colab.research.google.com/github/Bertha-ding/20MA573-yuning-ding/blob/master/hw/hw10code.ipynb\" target=\"_parent\"><img src=\"https://colab.research.google.com/assets/colab-badge.svg\" alt=\"Open In Colab\"/></a>"
      ]
    },
    {
      "cell_type": "markdown",
      "metadata": {
        "id": "G5XNujetKF1J",
        "colab_type": "text"
      },
      "source": [
        "Stochasitic approximation Q2. & Q3."
      ]
    },
    {
      "cell_type": "code",
      "metadata": {
        "id": "_809jUVXxLNO",
        "colab_type": "code",
        "colab": {}
      },
      "source": [
        "import numpy as np"
      ],
      "execution_count": 0,
      "outputs": []
    },
    {
      "cell_type": "code",
      "metadata": {
        "id": "xi0c9Vm_5LSq",
        "colab_type": "code",
        "colab": {
          "base_uri": "https://localhost:8080/",
          "height": 51
        },
        "outputId": "635e66db-d41d-4f3b-a21a-e025b44efd11"
      },
      "source": [
        "mu = 1\n",
        "sigma = 2\n",
        "x = np.random.normal(mu, sigma,10000)\n",
        "x"
      ],
      "execution_count": 24,
      "outputs": [
        {
          "output_type": "execute_result",
          "data": {
            "text/plain": [
              "array([ 1.3191587 , -0.42888801,  4.50882324, ...,  2.03892302,\n",
              "        2.2781237 ,  2.85975049])"
            ]
          },
          "metadata": {
            "tags": []
          },
          "execution_count": 24
        }
      ]
    },
    {
      "cell_type": "code",
      "metadata": {
        "id": "Qbpdzr2OyRNF",
        "colab_type": "code",
        "colab": {}
      },
      "source": [
        "def SA(real_mu,n):\n",
        "  b=0\n",
        "  alpha = 0.01\n",
        "  for i in range(n):\n",
        "    x = np.random.normal(real_mu, 2)\n",
        "    mu = b\n",
        "    b = mu + alpha * (x - mu)\n",
        "  return b"
      ],
      "execution_count": 0,
      "outputs": []
    },
    {
      "cell_type": "code",
      "metadata": {
        "id": "MwuOPwjw3jwH",
        "colab_type": "code",
        "colab": {
          "base_uri": "https://localhost:8080/",
          "height": 34
        },
        "outputId": "cba4d751-d80f-4015-ebc7-c8ac012909f4"
      },
      "source": [
        "SA(1,10000)"
      ],
      "execution_count": 32,
      "outputs": [
        {
          "output_type": "execute_result",
          "data": {
            "text/plain": [
              "1.1914118722228981"
            ]
          },
          "metadata": {
            "tags": []
          },
          "execution_count": 32
        }
      ]
    },
    {
      "cell_type": "code",
      "metadata": {
        "id": "mAarPETB5p3T",
        "colab_type": "code",
        "colab": {
          "base_uri": "https://localhost:8080/",
          "height": 34
        },
        "outputId": "f7e0a589-7f38-4371-ab2f-19bc4b1b4f43"
      },
      "source": [
        "estimate_mu = []\n",
        "\n",
        "for i in range(1000):\n",
        "  estimate_mu.append(np.mean(SA(1, 10000)))\n",
        "  \n",
        "estimate_mu[-1]"
      ],
      "execution_count": 35,
      "outputs": [
        {
          "output_type": "execute_result",
          "data": {
            "text/plain": [
              "1.0008192168594374"
            ]
          },
          "metadata": {
            "tags": []
          },
          "execution_count": 35
        }
      ]
    },
    {
      "cell_type": "markdown",
      "metadata": {
        "id": "ta3PnGiu-JXr",
        "colab_type": "text"
      },
      "source": [
        "The result above is closed to 1."
      ]
    },
    {
      "cell_type": "markdown",
      "metadata": {
        "id": "TLopK8DIMBlg",
        "colab_type": "text"
      },
      "source": [
        " MRP VI"
      ]
    },
    {
      "cell_type": "code",
      "metadata": {
        "id": "TZUGztgj5oEZ",
        "colab_type": "code",
        "colab": {
          "base_uri": "https://localhost:8080/",
          "height": 323
        },
        "outputId": "54a2b00f-ee39-42ec-f671-33738e955932"
      },
      "source": [
        "def init_val(n):\n",
        "  u=np.zeros([n+1,n+1])\n",
        "  for i in range(n+1):\n",
        "    for j in range(n+1):\n",
        "      if i==0 or i ==n or j==0 or j==n:\n",
        "        u[i,j] = (i/n-1/2)**2+(j/n-1/2)**2\n",
        "      else:\n",
        "        u[i,j] = 0\n",
        "  return u\n",
        "\n",
        "def gamma(n):\n",
        "  h = 1/n\n",
        "  gamma = 2/(2 + h**2)\n",
        "\n",
        "  return gamma\n",
        "\n",
        "\n",
        "def lh(n):\n",
        "  h = 1/n\n",
        "  lh = np.zeros([n+1, n+1])\n",
        "  for i in range(n+1):\n",
        "    for j in range(n+1):\n",
        "      if i == 0 or i == n or j == 0 or j == n:\n",
        "        lh[i, j] = 0\n",
        "      else:\n",
        "        lh[i, j] = (h**2/2)*((i/n)**2+(j/n)**2 - i/n - j/n - 3/2)\n",
        "  return lh\n",
        "\n",
        "def F(n, u):\n",
        "  h = 1/n\n",
        "  l= lh(n)\n",
        "  v = np.zeros([n+1, n+1])\n",
        "  for i in range(0, n+1):\n",
        "    for j in range(0, n+1):\n",
        "      if i == 0 or i == n or j == 0 or j == n:\n",
        "        v[i, j] = u[i, j]\n",
        "      else:\n",
        "        v[i, j] = gamma(n) * l[i, j] + gamma(n) * (u[i+1, j] + u[i, j+1] + u[i, j-1] + u[i-1, j]) / 4\n",
        "  \n",
        "  return v\n",
        "\n",
        "def VI(n, tolerance=0.0001):\n",
        "  v = init_val(n)\n",
        "  err = 0.1\n",
        "  n_hat = 0\n",
        "  if err>tolerance:\n",
        "    n_hat +=1\n",
        "    u = v\n",
        "    v = F(n,u)\n",
        "    err=np.max(np.abs(u-v))\n",
        "  return [v]\n",
        "\n",
        "print(VI(8, tolerance=0.0001))"
      ],
      "execution_count": 38,
      "outputs": [
        {
          "output_type": "stream",
          "text": [
            "[array([[ 0.5       ,  0.390625  ,  0.3125    ,  0.265625  ,  0.25      ,\n",
            "         0.265625  ,  0.3125    ,  0.390625  ,  0.5       ],\n",
            "       [ 0.390625  ,  0.18047481,  0.06359012,  0.05159884,  0.04760174,\n",
            "         0.05159884,  0.06359012,  0.18047481,  0.390625  ],\n",
            "       [ 0.3125    ,  0.06359012, -0.01453488, -0.01489826, -0.01501938,\n",
            "        -0.01489826, -0.01453488,  0.06359012,  0.3125    ],\n",
            "       [ 0.265625  ,  0.05159884, -0.01489826, -0.01526163, -0.01538275,\n",
            "        -0.01526163, -0.01489826,  0.05159884,  0.265625  ],\n",
            "       [ 0.25      ,  0.04760174, -0.01501938, -0.01538275, -0.01550388,\n",
            "        -0.01538275, -0.01501938,  0.04760174,  0.25      ],\n",
            "       [ 0.265625  ,  0.05159884, -0.01489826, -0.01526163, -0.01538275,\n",
            "        -0.01526163, -0.01489826,  0.05159884,  0.265625  ],\n",
            "       [ 0.3125    ,  0.06359012, -0.01453488, -0.01489826, -0.01501938,\n",
            "        -0.01489826, -0.01453488,  0.06359012,  0.3125    ],\n",
            "       [ 0.390625  ,  0.18047481,  0.06359012,  0.05159884,  0.04760174,\n",
            "         0.05159884,  0.06359012,  0.18047481,  0.390625  ],\n",
            "       [ 0.5       ,  0.390625  ,  0.3125    ,  0.265625  ,  0.25      ,\n",
            "         0.265625  ,  0.3125    ,  0.390625  ,  0.5       ]])]\n"
          ],
          "name": "stdout"
        }
      ]
    },
    {
      "cell_type": "markdown",
      "metadata": {
        "id": "QvtwAa98MIo7",
        "colab_type": "text"
      },
      "source": [
        "MC & TD to be coded"
      ]
    },
    {
      "cell_type": "code",
      "metadata": {
        "id": "pvvi-eG4Lax2",
        "colab_type": "code",
        "colab": {}
      },
      "source": [
        ""
      ],
      "execution_count": 0,
      "outputs": []
    }
  ]
}